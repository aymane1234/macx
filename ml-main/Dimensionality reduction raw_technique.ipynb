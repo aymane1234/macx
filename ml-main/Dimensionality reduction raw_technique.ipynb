{
  "cells": [
    {
      "cell_type": "code",
      "execution_count": 3,
      "id": "ea3664fd",
      "metadata": {
        "id": "ea3664fd"
      },
      "outputs": [],
      "source": [
        "import pandas as pd\n",
        "import numpy as np"
      ]
    },
    {
      "cell_type": "code",
      "execution_count": 4,
      "id": "99965989",
      "metadata": {
        "id": "99965989"
      },
      "outputs": [],
      "source": [
        "A  = np.array([\n",
        "    [3,7],\n",
        "    [-4,-6],\n",
        "    [7,8],\n",
        "    [1,-1],\n",
        "    [-4,-1],\n",
        "    [-3,-7]\n",
        "    \n",
        "])"
      ]
    },
    {
      "cell_type": "code",
      "execution_count": 5,
      "id": "a3cab804",
      "metadata": {
        "colab": {
          "base_uri": "https://localhost:8080/"
        },
        "id": "a3cab804",
        "outputId": "f12a1356-80e6-4e40-8d06-353f923d6da7"
      },
      "outputs": [
        {
          "output_type": "execute_result",
          "data": {
            "text/plain": [
              "array([[ 3,  7],\n",
              "       [-4, -6],\n",
              "       [ 7,  8],\n",
              "       [ 1, -1],\n",
              "       [-4, -1],\n",
              "       [-3, -7]])"
            ]
          },
          "metadata": {},
          "execution_count": 5
        }
      ],
      "source": [
        "A"
      ]
    },
    {
      "cell_type": "code",
      "execution_count": 6,
      "id": "faaf0260",
      "metadata": {
        "colab": {
          "base_uri": "https://localhost:8080/"
        },
        "id": "faaf0260",
        "outputId": "0bda45c9-9062-40aa-d8f6-980da19b52b3"
      },
      "outputs": [
        {
          "output_type": "execute_result",
          "data": {
            "text/plain": [
              "(6, 2)"
            ]
          },
          "metadata": {},
          "execution_count": 6
        }
      ],
      "source": [
        "A.shape"
      ]
    },
    {
      "cell_type": "code",
      "execution_count": 7,
      "id": "cabf076a",
      "metadata": {
        "colab": {
          "base_uri": "https://localhost:8080/",
          "height": 238
        },
        "id": "cabf076a",
        "outputId": "64a46f05-c1df-48bf-8fbc-875cb35c3989"
      },
      "outputs": [
        {
          "output_type": "execute_result",
          "data": {
            "text/plain": [
              "   a0  a1\n",
              "0   3   7\n",
              "1  -4  -6\n",
              "2   7   8\n",
              "3   1  -1\n",
              "4  -4  -1\n",
              "5  -3  -7"
            ],
            "text/html": [
              "\n",
              "  <div id=\"df-5d12f6b6-0569-4885-97a6-1ff5bdef983a\">\n",
              "    <div class=\"colab-df-container\">\n",
              "      <div>\n",
              "<style scoped>\n",
              "    .dataframe tbody tr th:only-of-type {\n",
              "        vertical-align: middle;\n",
              "    }\n",
              "\n",
              "    .dataframe tbody tr th {\n",
              "        vertical-align: top;\n",
              "    }\n",
              "\n",
              "    .dataframe thead th {\n",
              "        text-align: right;\n",
              "    }\n",
              "</style>\n",
              "<table border=\"1\" class=\"dataframe\">\n",
              "  <thead>\n",
              "    <tr style=\"text-align: right;\">\n",
              "      <th></th>\n",
              "      <th>a0</th>\n",
              "      <th>a1</th>\n",
              "    </tr>\n",
              "  </thead>\n",
              "  <tbody>\n",
              "    <tr>\n",
              "      <th>0</th>\n",
              "      <td>3</td>\n",
              "      <td>7</td>\n",
              "    </tr>\n",
              "    <tr>\n",
              "      <th>1</th>\n",
              "      <td>-4</td>\n",
              "      <td>-6</td>\n",
              "    </tr>\n",
              "    <tr>\n",
              "      <th>2</th>\n",
              "      <td>7</td>\n",
              "      <td>8</td>\n",
              "    </tr>\n",
              "    <tr>\n",
              "      <th>3</th>\n",
              "      <td>1</td>\n",
              "      <td>-1</td>\n",
              "    </tr>\n",
              "    <tr>\n",
              "      <th>4</th>\n",
              "      <td>-4</td>\n",
              "      <td>-1</td>\n",
              "    </tr>\n",
              "    <tr>\n",
              "      <th>5</th>\n",
              "      <td>-3</td>\n",
              "      <td>-7</td>\n",
              "    </tr>\n",
              "  </tbody>\n",
              "</table>\n",
              "</div>\n",
              "      <button class=\"colab-df-convert\" onclick=\"convertToInteractive('df-5d12f6b6-0569-4885-97a6-1ff5bdef983a')\"\n",
              "              title=\"Convert this dataframe to an interactive table.\"\n",
              "              style=\"display:none;\">\n",
              "        \n",
              "  <svg xmlns=\"http://www.w3.org/2000/svg\" height=\"24px\"viewBox=\"0 0 24 24\"\n",
              "       width=\"24px\">\n",
              "    <path d=\"M0 0h24v24H0V0z\" fill=\"none\"/>\n",
              "    <path d=\"M18.56 5.44l.94 2.06.94-2.06 2.06-.94-2.06-.94-.94-2.06-.94 2.06-2.06.94zm-11 1L8.5 8.5l.94-2.06 2.06-.94-2.06-.94L8.5 2.5l-.94 2.06-2.06.94zm10 10l.94 2.06.94-2.06 2.06-.94-2.06-.94-.94-2.06-.94 2.06-2.06.94z\"/><path d=\"M17.41 7.96l-1.37-1.37c-.4-.4-.92-.59-1.43-.59-.52 0-1.04.2-1.43.59L10.3 9.45l-7.72 7.72c-.78.78-.78 2.05 0 2.83L4 21.41c.39.39.9.59 1.41.59.51 0 1.02-.2 1.41-.59l7.78-7.78 2.81-2.81c.8-.78.8-2.07 0-2.86zM5.41 20L4 18.59l7.72-7.72 1.47 1.35L5.41 20z\"/>\n",
              "  </svg>\n",
              "      </button>\n",
              "      \n",
              "  <style>\n",
              "    .colab-df-container {\n",
              "      display:flex;\n",
              "      flex-wrap:wrap;\n",
              "      gap: 12px;\n",
              "    }\n",
              "\n",
              "    .colab-df-convert {\n",
              "      background-color: #E8F0FE;\n",
              "      border: none;\n",
              "      border-radius: 50%;\n",
              "      cursor: pointer;\n",
              "      display: none;\n",
              "      fill: #1967D2;\n",
              "      height: 32px;\n",
              "      padding: 0 0 0 0;\n",
              "      width: 32px;\n",
              "    }\n",
              "\n",
              "    .colab-df-convert:hover {\n",
              "      background-color: #E2EBFA;\n",
              "      box-shadow: 0px 1px 2px rgba(60, 64, 67, 0.3), 0px 1px 3px 1px rgba(60, 64, 67, 0.15);\n",
              "      fill: #174EA6;\n",
              "    }\n",
              "\n",
              "    [theme=dark] .colab-df-convert {\n",
              "      background-color: #3B4455;\n",
              "      fill: #D2E3FC;\n",
              "    }\n",
              "\n",
              "    [theme=dark] .colab-df-convert:hover {\n",
              "      background-color: #434B5C;\n",
              "      box-shadow: 0px 1px 3px 1px rgba(0, 0, 0, 0.15);\n",
              "      filter: drop-shadow(0px 1px 2px rgba(0, 0, 0, 0.3));\n",
              "      fill: #FFFFFF;\n",
              "    }\n",
              "  </style>\n",
              "\n",
              "      <script>\n",
              "        const buttonEl =\n",
              "          document.querySelector('#df-5d12f6b6-0569-4885-97a6-1ff5bdef983a button.colab-df-convert');\n",
              "        buttonEl.style.display =\n",
              "          google.colab.kernel.accessAllowed ? 'block' : 'none';\n",
              "\n",
              "        async function convertToInteractive(key) {\n",
              "          const element = document.querySelector('#df-5d12f6b6-0569-4885-97a6-1ff5bdef983a');\n",
              "          const dataTable =\n",
              "            await google.colab.kernel.invokeFunction('convertToInteractive',\n",
              "                                                     [key], {});\n",
              "          if (!dataTable) return;\n",
              "\n",
              "          const docLinkHtml = 'Like what you see? Visit the ' +\n",
              "            '<a target=\"_blank\" href=https://colab.research.google.com/notebooks/data_table.ipynb>data table notebook</a>'\n",
              "            + ' to learn more about interactive tables.';\n",
              "          element.innerHTML = '';\n",
              "          dataTable['output_type'] = 'display_data';\n",
              "          await google.colab.output.renderOutput(dataTable, element);\n",
              "          const docLink = document.createElement('div');\n",
              "          docLink.innerHTML = docLinkHtml;\n",
              "          element.appendChild(docLink);\n",
              "        }\n",
              "      </script>\n",
              "    </div>\n",
              "  </div>\n",
              "  "
            ]
          },
          "metadata": {},
          "execution_count": 7
        }
      ],
      "source": [
        "pd.DataFrame(A, columns=['a0','a1'])"
      ]
    },
    {
      "cell_type": "code",
      "execution_count": 8,
      "id": "3a6e2868",
      "metadata": {
        "id": "3a6e2868"
      },
      "outputs": [],
      "source": [
        "a0 = A[:,0]\n",
        "a1= A[:,1]"
      ]
    },
    {
      "cell_type": "code",
      "execution_count": 9,
      "id": "29b026a8",
      "metadata": {
        "colab": {
          "base_uri": "https://localhost:8080/"
        },
        "id": "29b026a8",
        "outputId": "0ac1c82f-6f67-4be0-97d4-4681e695e785"
      },
      "outputs": [
        {
          "output_type": "execute_result",
          "data": {
            "text/plain": [
              "array([[20., 25.],\n",
              "       [25., 40.]])"
            ]
          },
          "metadata": {},
          "execution_count": 9
        }
      ],
      "source": [
        "np.cov(a0,a1)"
      ]
    },
    {
      "cell_type": "code",
      "execution_count": 10,
      "id": "d2801e74",
      "metadata": {
        "colab": {
          "base_uri": "https://localhost:8080/"
        },
        "id": "d2801e74",
        "outputId": "d19fb242-84d1-4aca-c2ef-65d295993fdb"
      },
      "outputs": [
        {
          "output_type": "execute_result",
          "data": {
            "text/plain": [
              "25.0"
            ]
          },
          "metadata": {},
          "execution_count": 10
        }
      ],
      "source": [
        "np.sum(a0*a1)/5"
      ]
    },
    {
      "cell_type": "code",
      "execution_count": 11,
      "id": "fcff0825",
      "metadata": {
        "colab": {
          "base_uri": "https://localhost:8080/"
        },
        "id": "fcff0825",
        "outputId": "d9920634-da1b-45f3-9ba2-3c5e3cdbae7f"
      },
      "outputs": [
        {
          "output_type": "execute_result",
          "data": {
            "text/plain": [
              "array([[20., 25.],\n",
              "       [25., 40.]])"
            ]
          },
          "metadata": {},
          "execution_count": 11
        }
      ],
      "source": [
        "A.T @ A/5 #matrix multip --- Same result as for covariance "
      ]
    },
    {
      "cell_type": "code",
      "execution_count": 12,
      "id": "1b22a00d",
      "metadata": {
        "colab": {
          "base_uri": "https://localhost:8080/"
        },
        "id": "1b22a00d",
        "outputId": "d7e6a409-8a18-4f0e-83a0-a40ad60acbff"
      },
      "outputs": [
        {
          "output_type": "stream",
          "name": "stdout",
          "text": [
            "Object `` not found.\n"
          ]
        }
      ],
      "source": [
        "?@"
      ]
    },
    {
      "cell_type": "code",
      "execution_count": 13,
      "id": "2ef2bf5a",
      "metadata": {
        "id": "2ef2bf5a"
      },
      "outputs": [],
      "source": [
        "sigma = A.T @ A/5"
      ]
    },
    {
      "cell_type": "code",
      "execution_count": 14,
      "id": "0908674c",
      "metadata": {
        "colab": {
          "base_uri": "https://localhost:8080/"
        },
        "id": "0908674c",
        "outputId": "91916806-cf72-450c-8286-a18db408a399"
      },
      "outputs": [
        {
          "output_type": "execute_result",
          "data": {
            "text/plain": [
              "(array([ 3.07417596, 56.92582404]), array([[-0.82806723, -0.56062881],\n",
              "        [ 0.56062881, -0.82806723]]))"
            ]
          },
          "metadata": {},
          "execution_count": 14
        }
      ],
      "source": [
        "np.linalg.eig(sigma) #compute the eigenvalues and right eigenvector of a square array"
      ]
    },
    {
      "cell_type": "markdown",
      "id": "3d5a02df",
      "metadata": {
        "id": "3d5a02df"
      },
      "source": [
        "lambda1 = 56,92 highest eigenvalue \n",
        "lambda2 = 3..."
      ]
    },
    {
      "cell_type": "code",
      "execution_count": 15,
      "id": "b333d9b0",
      "metadata": {
        "id": "b333d9b0"
      },
      "outputs": [],
      "source": [
        "l, x = np.linalg.eig(sigma)"
      ]
    },
    {
      "cell_type": "code",
      "execution_count": 16,
      "id": "d6e3b3d7",
      "metadata": {
        "colab": {
          "base_uri": "https://localhost:8080/"
        },
        "id": "d6e3b3d7",
        "outputId": "f45c5228-5b57-4965-e498-4052e99bd611"
      },
      "outputs": [
        {
          "output_type": "execute_result",
          "data": {
            "text/plain": [
              "array([[-0.82806723, -0.56062881],\n",
              "       [ 0.56062881, -0.82806723]])"
            ]
          },
          "metadata": {},
          "execution_count": 16
        }
      ],
      "source": [
        "x"
      ]
    },
    {
      "cell_type": "code",
      "execution_count": 17,
      "id": "dbf2b851",
      "metadata": {
        "colab": {
          "base_uri": "https://localhost:8080/"
        },
        "id": "dbf2b851",
        "outputId": "391c2940-e739-4822-939e-49dc6685f7fa"
      },
      "outputs": [
        {
          "output_type": "execute_result",
          "data": {
            "text/plain": [
              "array([-2.54562438,  1.72347161])"
            ]
          },
          "metadata": {},
          "execution_count": 17
        }
      ],
      "source": [
        "sigma @ x[:,0]"
      ]
    },
    {
      "cell_type": "code",
      "execution_count": 18,
      "id": "a6507f10",
      "metadata": {
        "colab": {
          "base_uri": "https://localhost:8080/"
        },
        "id": "a6507f10",
        "outputId": "0989b4e3-53ee-47c4-f688-404be16d8542"
      },
      "outputs": [
        {
          "output_type": "execute_result",
          "data": {
            "text/plain": [
              "array([-31.91425695, -47.13840945])"
            ]
          },
          "metadata": {},
          "execution_count": 18
        }
      ],
      "source": [
        "sigma @ x[:,1]"
      ]
    },
    {
      "cell_type": "code",
      "execution_count": 19,
      "id": "be75bcb6",
      "metadata": {
        "colab": {
          "base_uri": "https://localhost:8080/"
        },
        "id": "be75bcb6",
        "outputId": "b1dbb730-7f6b-41ba-901a-a70507b69475"
      },
      "outputs": [
        {
          "output_type": "stream",
          "name": "stdout",
          "text": [
            "1st principal component with biggest eigenvalue\n"
          ]
        },
        {
          "output_type": "execute_result",
          "data": {
            "text/plain": [
              "array([-0.56062881, -0.82806723])"
            ]
          },
          "metadata": {},
          "execution_count": 19
        }
      ],
      "source": [
        "print(\"1st principal component with biggest eigenvalue\")\n",
        "x[:,1]"
      ]
    },
    {
      "cell_type": "code",
      "execution_count": 20,
      "id": "8cc67adb",
      "metadata": {
        "colab": {
          "base_uri": "https://localhost:8080/"
        },
        "id": "8cc67adb",
        "outputId": "48771900-708f-4bb1-a3ef-aeb57cdf58bf"
      },
      "outputs": [
        {
          "output_type": "stream",
          "name": "stdout",
          "text": [
            "2st principal component with lowest eigenvalue\n"
          ]
        },
        {
          "output_type": "execute_result",
          "data": {
            "text/plain": [
              "array([-0.82806723,  0.56062881])"
            ]
          },
          "metadata": {},
          "execution_count": 20
        }
      ],
      "source": [
        "print(\"2st principal component with lowest eigenvalue\")\n",
        "x[:,0]"
      ]
    },
    {
      "cell_type": "code",
      "execution_count": 21,
      "id": "3617374d",
      "metadata": {
        "id": "3617374d"
      },
      "outputs": [],
      "source": [
        "pc1_arr =  A @ x[:,1] #to transform the data "
      ]
    },
    {
      "cell_type": "code",
      "execution_count": 22,
      "id": "6a687402",
      "metadata": {
        "id": "6a687402"
      },
      "outputs": [],
      "source": [
        "pc2_arr =  A @ x[:,0]"
      ]
    },
    {
      "cell_type": "code",
      "execution_count": 23,
      "id": "14a4b366",
      "metadata": {
        "colab": {
          "base_uri": "https://localhost:8080/"
        },
        "id": "14a4b366",
        "outputId": "dc715a38-9d7f-45ed-af06-ab65874b286d"
      },
      "outputs": [
        {
          "output_type": "execute_result",
          "data": {
            "text/plain": [
              "array([ -7.47835704,   7.21091862, -10.54893951,   0.26743842,\n",
              "         3.07058247,   7.47835704])"
            ]
          },
          "metadata": {},
          "execution_count": 23
        }
      ],
      "source": [
        "pc1_arr"
      ]
    },
    {
      "cell_type": "code",
      "execution_count": 24,
      "id": "3f3fbbf0",
      "metadata": {
        "colab": {
          "base_uri": "https://localhost:8080/"
        },
        "id": "3f3fbbf0",
        "outputId": "3f879e30-af20-4882-ba7f-565541b3cffc"
      },
      "outputs": [
        {
          "output_type": "execute_result",
          "data": {
            "text/plain": [
              "array([ 1.44019997, -0.05150393, -1.31144014, -1.38869604,  2.75164011,\n",
              "       -1.44019997])"
            ]
          },
          "metadata": {},
          "execution_count": 24
        }
      ],
      "source": [
        "pc2_arr"
      ]
    },
    {
      "cell_type": "code",
      "execution_count": 26,
      "id": "fb15416a",
      "metadata": {
        "id": "fb15416a"
      },
      "outputs": [],
      "source": [
        "df = pd.read_csv('glass.data')"
      ]
    },
    {
      "cell_type": "code",
      "execution_count": 27,
      "id": "73af7a60",
      "metadata": {
        "colab": {
          "base_uri": "https://localhost:8080/",
          "height": 364
        },
        "id": "73af7a60",
        "outputId": "6f246c99-30ff-431c-f8c8-6dc643f809a7"
      },
      "outputs": [
        {
          "output_type": "execute_result",
          "data": {
            "text/plain": [
              "                1     1.52101       13.64        4.49        1.10       71.78  \\\n",
              "count  213.000000  213.000000  213.000000  213.000000  213.000000  213.000000   \n",
              "mean   108.000000    1.518353   13.406761    2.676056    1.446526   72.655023   \n",
              "std     61.631972    0.003039    0.818371    1.440453    0.499882    0.774052   \n",
              "min      2.000000    1.511150   10.730000    0.000000    0.290000   69.810000   \n",
              "25%     55.000000    1.516520   12.900000    2.090000    1.190000   72.280000   \n",
              "50%    108.000000    1.517680   13.300000    3.480000    1.360000   72.790000   \n",
              "75%    161.000000    1.519150   13.830000    3.600000    1.630000   73.090000   \n",
              "max    214.000000    1.533930   17.380000    3.980000    3.500000   75.410000   \n",
              "\n",
              "             0.06        8.75        0.00      0.00.1         1.1  \n",
              "count  213.000000  213.000000  213.000000  213.000000  213.000000  \n",
              "mean     0.499108    8.957934    0.175869    0.057277    2.788732  \n",
              "std      0.653035    1.426435    0.498245    0.097589    2.105130  \n",
              "min      0.000000    5.430000    0.000000    0.000000    1.000000  \n",
              "25%      0.130000    8.240000    0.000000    0.000000    1.000000  \n",
              "50%      0.560000    8.600000    0.000000    0.000000    2.000000  \n",
              "75%      0.610000    9.180000    0.000000    0.100000    3.000000  \n",
              "max      6.210000   16.190000    3.150000    0.510000    7.000000  "
            ],
            "text/html": [
              "\n",
              "  <div id=\"df-cacfd9ba-70d6-4c75-9749-118ba8455c4d\">\n",
              "    <div class=\"colab-df-container\">\n",
              "      <div>\n",
              "<style scoped>\n",
              "    .dataframe tbody tr th:only-of-type {\n",
              "        vertical-align: middle;\n",
              "    }\n",
              "\n",
              "    .dataframe tbody tr th {\n",
              "        vertical-align: top;\n",
              "    }\n",
              "\n",
              "    .dataframe thead th {\n",
              "        text-align: right;\n",
              "    }\n",
              "</style>\n",
              "<table border=\"1\" class=\"dataframe\">\n",
              "  <thead>\n",
              "    <tr style=\"text-align: right;\">\n",
              "      <th></th>\n",
              "      <th>1</th>\n",
              "      <th>1.52101</th>\n",
              "      <th>13.64</th>\n",
              "      <th>4.49</th>\n",
              "      <th>1.10</th>\n",
              "      <th>71.78</th>\n",
              "      <th>0.06</th>\n",
              "      <th>8.75</th>\n",
              "      <th>0.00</th>\n",
              "      <th>0.00.1</th>\n",
              "      <th>1.1</th>\n",
              "    </tr>\n",
              "  </thead>\n",
              "  <tbody>\n",
              "    <tr>\n",
              "      <th>count</th>\n",
              "      <td>213.000000</td>\n",
              "      <td>213.000000</td>\n",
              "      <td>213.000000</td>\n",
              "      <td>213.000000</td>\n",
              "      <td>213.000000</td>\n",
              "      <td>213.000000</td>\n",
              "      <td>213.000000</td>\n",
              "      <td>213.000000</td>\n",
              "      <td>213.000000</td>\n",
              "      <td>213.000000</td>\n",
              "      <td>213.000000</td>\n",
              "    </tr>\n",
              "    <tr>\n",
              "      <th>mean</th>\n",
              "      <td>108.000000</td>\n",
              "      <td>1.518353</td>\n",
              "      <td>13.406761</td>\n",
              "      <td>2.676056</td>\n",
              "      <td>1.446526</td>\n",
              "      <td>72.655023</td>\n",
              "      <td>0.499108</td>\n",
              "      <td>8.957934</td>\n",
              "      <td>0.175869</td>\n",
              "      <td>0.057277</td>\n",
              "      <td>2.788732</td>\n",
              "    </tr>\n",
              "    <tr>\n",
              "      <th>std</th>\n",
              "      <td>61.631972</td>\n",
              "      <td>0.003039</td>\n",
              "      <td>0.818371</td>\n",
              "      <td>1.440453</td>\n",
              "      <td>0.499882</td>\n",
              "      <td>0.774052</td>\n",
              "      <td>0.653035</td>\n",
              "      <td>1.426435</td>\n",
              "      <td>0.498245</td>\n",
              "      <td>0.097589</td>\n",
              "      <td>2.105130</td>\n",
              "    </tr>\n",
              "    <tr>\n",
              "      <th>min</th>\n",
              "      <td>2.000000</td>\n",
              "      <td>1.511150</td>\n",
              "      <td>10.730000</td>\n",
              "      <td>0.000000</td>\n",
              "      <td>0.290000</td>\n",
              "      <td>69.810000</td>\n",
              "      <td>0.000000</td>\n",
              "      <td>5.430000</td>\n",
              "      <td>0.000000</td>\n",
              "      <td>0.000000</td>\n",
              "      <td>1.000000</td>\n",
              "    </tr>\n",
              "    <tr>\n",
              "      <th>25%</th>\n",
              "      <td>55.000000</td>\n",
              "      <td>1.516520</td>\n",
              "      <td>12.900000</td>\n",
              "      <td>2.090000</td>\n",
              "      <td>1.190000</td>\n",
              "      <td>72.280000</td>\n",
              "      <td>0.130000</td>\n",
              "      <td>8.240000</td>\n",
              "      <td>0.000000</td>\n",
              "      <td>0.000000</td>\n",
              "      <td>1.000000</td>\n",
              "    </tr>\n",
              "    <tr>\n",
              "      <th>50%</th>\n",
              "      <td>108.000000</td>\n",
              "      <td>1.517680</td>\n",
              "      <td>13.300000</td>\n",
              "      <td>3.480000</td>\n",
              "      <td>1.360000</td>\n",
              "      <td>72.790000</td>\n",
              "      <td>0.560000</td>\n",
              "      <td>8.600000</td>\n",
              "      <td>0.000000</td>\n",
              "      <td>0.000000</td>\n",
              "      <td>2.000000</td>\n",
              "    </tr>\n",
              "    <tr>\n",
              "      <th>75%</th>\n",
              "      <td>161.000000</td>\n",
              "      <td>1.519150</td>\n",
              "      <td>13.830000</td>\n",
              "      <td>3.600000</td>\n",
              "      <td>1.630000</td>\n",
              "      <td>73.090000</td>\n",
              "      <td>0.610000</td>\n",
              "      <td>9.180000</td>\n",
              "      <td>0.000000</td>\n",
              "      <td>0.100000</td>\n",
              "      <td>3.000000</td>\n",
              "    </tr>\n",
              "    <tr>\n",
              "      <th>max</th>\n",
              "      <td>214.000000</td>\n",
              "      <td>1.533930</td>\n",
              "      <td>17.380000</td>\n",
              "      <td>3.980000</td>\n",
              "      <td>3.500000</td>\n",
              "      <td>75.410000</td>\n",
              "      <td>6.210000</td>\n",
              "      <td>16.190000</td>\n",
              "      <td>3.150000</td>\n",
              "      <td>0.510000</td>\n",
              "      <td>7.000000</td>\n",
              "    </tr>\n",
              "  </tbody>\n",
              "</table>\n",
              "</div>\n",
              "      <button class=\"colab-df-convert\" onclick=\"convertToInteractive('df-cacfd9ba-70d6-4c75-9749-118ba8455c4d')\"\n",
              "              title=\"Convert this dataframe to an interactive table.\"\n",
              "              style=\"display:none;\">\n",
              "        \n",
              "  <svg xmlns=\"http://www.w3.org/2000/svg\" height=\"24px\"viewBox=\"0 0 24 24\"\n",
              "       width=\"24px\">\n",
              "    <path d=\"M0 0h24v24H0V0z\" fill=\"none\"/>\n",
              "    <path d=\"M18.56 5.44l.94 2.06.94-2.06 2.06-.94-2.06-.94-.94-2.06-.94 2.06-2.06.94zm-11 1L8.5 8.5l.94-2.06 2.06-.94-2.06-.94L8.5 2.5l-.94 2.06-2.06.94zm10 10l.94 2.06.94-2.06 2.06-.94-2.06-.94-.94-2.06-.94 2.06-2.06.94z\"/><path d=\"M17.41 7.96l-1.37-1.37c-.4-.4-.92-.59-1.43-.59-.52 0-1.04.2-1.43.59L10.3 9.45l-7.72 7.72c-.78.78-.78 2.05 0 2.83L4 21.41c.39.39.9.59 1.41.59.51 0 1.02-.2 1.41-.59l7.78-7.78 2.81-2.81c.8-.78.8-2.07 0-2.86zM5.41 20L4 18.59l7.72-7.72 1.47 1.35L5.41 20z\"/>\n",
              "  </svg>\n",
              "      </button>\n",
              "      \n",
              "  <style>\n",
              "    .colab-df-container {\n",
              "      display:flex;\n",
              "      flex-wrap:wrap;\n",
              "      gap: 12px;\n",
              "    }\n",
              "\n",
              "    .colab-df-convert {\n",
              "      background-color: #E8F0FE;\n",
              "      border: none;\n",
              "      border-radius: 50%;\n",
              "      cursor: pointer;\n",
              "      display: none;\n",
              "      fill: #1967D2;\n",
              "      height: 32px;\n",
              "      padding: 0 0 0 0;\n",
              "      width: 32px;\n",
              "    }\n",
              "\n",
              "    .colab-df-convert:hover {\n",
              "      background-color: #E2EBFA;\n",
              "      box-shadow: 0px 1px 2px rgba(60, 64, 67, 0.3), 0px 1px 3px 1px rgba(60, 64, 67, 0.15);\n",
              "      fill: #174EA6;\n",
              "    }\n",
              "\n",
              "    [theme=dark] .colab-df-convert {\n",
              "      background-color: #3B4455;\n",
              "      fill: #D2E3FC;\n",
              "    }\n",
              "\n",
              "    [theme=dark] .colab-df-convert:hover {\n",
              "      background-color: #434B5C;\n",
              "      box-shadow: 0px 1px 3px 1px rgba(0, 0, 0, 0.15);\n",
              "      filter: drop-shadow(0px 1px 2px rgba(0, 0, 0, 0.3));\n",
              "      fill: #FFFFFF;\n",
              "    }\n",
              "  </style>\n",
              "\n",
              "      <script>\n",
              "        const buttonEl =\n",
              "          document.querySelector('#df-cacfd9ba-70d6-4c75-9749-118ba8455c4d button.colab-df-convert');\n",
              "        buttonEl.style.display =\n",
              "          google.colab.kernel.accessAllowed ? 'block' : 'none';\n",
              "\n",
              "        async function convertToInteractive(key) {\n",
              "          const element = document.querySelector('#df-cacfd9ba-70d6-4c75-9749-118ba8455c4d');\n",
              "          const dataTable =\n",
              "            await google.colab.kernel.invokeFunction('convertToInteractive',\n",
              "                                                     [key], {});\n",
              "          if (!dataTable) return;\n",
              "\n",
              "          const docLinkHtml = 'Like what you see? Visit the ' +\n",
              "            '<a target=\"_blank\" href=https://colab.research.google.com/notebooks/data_table.ipynb>data table notebook</a>'\n",
              "            + ' to learn more about interactive tables.';\n",
              "          element.innerHTML = '';\n",
              "          dataTable['output_type'] = 'display_data';\n",
              "          await google.colab.output.renderOutput(dataTable, element);\n",
              "          const docLink = document.createElement('div');\n",
              "          docLink.innerHTML = docLinkHtml;\n",
              "          element.appendChild(docLink);\n",
              "        }\n",
              "      </script>\n",
              "    </div>\n",
              "  </div>\n",
              "  "
            ]
          },
          "metadata": {},
          "execution_count": 27
        }
      ],
      "source": [
        "df.describe()"
      ]
    },
    {
      "cell_type": "code",
      "execution_count": 28,
      "id": "bf368d3d",
      "metadata": {
        "id": "bf368d3d"
      },
      "outputs": [],
      "source": [
        "#not scaled dataset!!\n",
        "from sklearn.preprocessing import StandardScaler\n",
        "\n",
        "scaler  = StandardScaler()\n",
        "df_sclaed = scaler.fit_transform(df)\n"
      ]
    },
    {
      "cell_type": "code",
      "execution_count": 29,
      "id": "336a551e",
      "metadata": {
        "id": "336a551e"
      },
      "outputs": [],
      "source": [
        "df_new = pd.DataFrame(df_sclaed)"
      ]
    },
    {
      "cell_type": "code",
      "source": [
        "df_new"
      ],
      "metadata": {
        "id": "K5sjjOtVI3WU",
        "outputId": "49100d05-6932-48de-fa39-ca87debafbc3",
        "colab": {
          "base_uri": "https://localhost:8080/",
          "height": 424
        }
      },
      "id": "K5sjjOtVI3WU",
      "execution_count": 42,
      "outputs": [
        {
          "output_type": "execute_result",
          "data": {
            "text/plain": [
              "           0         1         2         3         4         5         6   \\\n",
              "0   -1.723938 -0.245101  0.591880  0.642937 -0.173500  0.097091 -0.029329   \n",
              "1   -1.707675 -0.716826  0.150946  0.608144  0.187433  0.433777 -0.167472   \n",
              "2   -1.691411 -0.228607 -0.240996  0.705564 -0.313863 -0.058303  0.108813   \n",
              "3   -1.675147 -0.307777 -0.167507  0.656854 -0.414122  0.550322  0.078115   \n",
              "4   -1.658884 -0.789399 -0.755419  0.649895  0.347848  0.407878  0.216258   \n",
              "..        ...       ...       ...       ...       ...       ...       ...   \n",
              "208  1.658884 -0.700332  0.898085 -1.862164  2.874379 -0.058303 -0.643296   \n",
              "209  1.675147 -0.495808  1.853443 -1.862164  1.089766  0.524423 -0.766090   \n",
              "210  1.691411  0.757727  1.167545 -1.862164  1.149921  0.990604 -0.766090   \n",
              "211  1.707675 -0.607966  1.192041 -1.862164  0.989506  1.236644 -0.766090   \n",
              "212  1.723938 -0.410039  1.008318 -1.862164  1.270232  0.912907 -0.766090   \n",
              "\n",
              "           7         8         9         10  \n",
              "0   -0.792599 -0.353808 -0.588301 -0.851703  \n",
              "1   -0.827734 -0.353808 -0.588301 -0.851703  \n",
              "2   -0.518546 -0.353808 -0.588301 -0.851703  \n",
              "3   -0.623951 -0.353808 -0.588301 -0.851703  \n",
              "4   -0.623951 -0.353808  2.082200 -0.851703  \n",
              "..        ...       ...       ...       ...  \n",
              "208  0.156046  1.778672 -0.588301  2.005192  \n",
              "209 -0.392060  2.844912 -0.588301  2.005192  \n",
              "210 -0.363952  2.945501 -0.588301  2.005192  \n",
              "211 -0.335844  2.804676 -0.588301  2.005192  \n",
              "212 -0.237466  3.005854 -0.588301  2.005192  \n",
              "\n",
              "[213 rows x 11 columns]"
            ],
            "text/html": [
              "\n",
              "  <div id=\"df-adb85ec3-51c8-4b58-a044-3096017db12c\">\n",
              "    <div class=\"colab-df-container\">\n",
              "      <div>\n",
              "<style scoped>\n",
              "    .dataframe tbody tr th:only-of-type {\n",
              "        vertical-align: middle;\n",
              "    }\n",
              "\n",
              "    .dataframe tbody tr th {\n",
              "        vertical-align: top;\n",
              "    }\n",
              "\n",
              "    .dataframe thead th {\n",
              "        text-align: right;\n",
              "    }\n",
              "</style>\n",
              "<table border=\"1\" class=\"dataframe\">\n",
              "  <thead>\n",
              "    <tr style=\"text-align: right;\">\n",
              "      <th></th>\n",
              "      <th>0</th>\n",
              "      <th>1</th>\n",
              "      <th>2</th>\n",
              "      <th>3</th>\n",
              "      <th>4</th>\n",
              "      <th>5</th>\n",
              "      <th>6</th>\n",
              "      <th>7</th>\n",
              "      <th>8</th>\n",
              "      <th>9</th>\n",
              "      <th>10</th>\n",
              "    </tr>\n",
              "  </thead>\n",
              "  <tbody>\n",
              "    <tr>\n",
              "      <th>0</th>\n",
              "      <td>-1.723938</td>\n",
              "      <td>-0.245101</td>\n",
              "      <td>0.591880</td>\n",
              "      <td>0.642937</td>\n",
              "      <td>-0.173500</td>\n",
              "      <td>0.097091</td>\n",
              "      <td>-0.029329</td>\n",
              "      <td>-0.792599</td>\n",
              "      <td>-0.353808</td>\n",
              "      <td>-0.588301</td>\n",
              "      <td>-0.851703</td>\n",
              "    </tr>\n",
              "    <tr>\n",
              "      <th>1</th>\n",
              "      <td>-1.707675</td>\n",
              "      <td>-0.716826</td>\n",
              "      <td>0.150946</td>\n",
              "      <td>0.608144</td>\n",
              "      <td>0.187433</td>\n",
              "      <td>0.433777</td>\n",
              "      <td>-0.167472</td>\n",
              "      <td>-0.827734</td>\n",
              "      <td>-0.353808</td>\n",
              "      <td>-0.588301</td>\n",
              "      <td>-0.851703</td>\n",
              "    </tr>\n",
              "    <tr>\n",
              "      <th>2</th>\n",
              "      <td>-1.691411</td>\n",
              "      <td>-0.228607</td>\n",
              "      <td>-0.240996</td>\n",
              "      <td>0.705564</td>\n",
              "      <td>-0.313863</td>\n",
              "      <td>-0.058303</td>\n",
              "      <td>0.108813</td>\n",
              "      <td>-0.518546</td>\n",
              "      <td>-0.353808</td>\n",
              "      <td>-0.588301</td>\n",
              "      <td>-0.851703</td>\n",
              "    </tr>\n",
              "    <tr>\n",
              "      <th>3</th>\n",
              "      <td>-1.675147</td>\n",
              "      <td>-0.307777</td>\n",
              "      <td>-0.167507</td>\n",
              "      <td>0.656854</td>\n",
              "      <td>-0.414122</td>\n",
              "      <td>0.550322</td>\n",
              "      <td>0.078115</td>\n",
              "      <td>-0.623951</td>\n",
              "      <td>-0.353808</td>\n",
              "      <td>-0.588301</td>\n",
              "      <td>-0.851703</td>\n",
              "    </tr>\n",
              "    <tr>\n",
              "      <th>4</th>\n",
              "      <td>-1.658884</td>\n",
              "      <td>-0.789399</td>\n",
              "      <td>-0.755419</td>\n",
              "      <td>0.649895</td>\n",
              "      <td>0.347848</td>\n",
              "      <td>0.407878</td>\n",
              "      <td>0.216258</td>\n",
              "      <td>-0.623951</td>\n",
              "      <td>-0.353808</td>\n",
              "      <td>2.082200</td>\n",
              "      <td>-0.851703</td>\n",
              "    </tr>\n",
              "    <tr>\n",
              "      <th>...</th>\n",
              "      <td>...</td>\n",
              "      <td>...</td>\n",
              "      <td>...</td>\n",
              "      <td>...</td>\n",
              "      <td>...</td>\n",
              "      <td>...</td>\n",
              "      <td>...</td>\n",
              "      <td>...</td>\n",
              "      <td>...</td>\n",
              "      <td>...</td>\n",
              "      <td>...</td>\n",
              "    </tr>\n",
              "    <tr>\n",
              "      <th>208</th>\n",
              "      <td>1.658884</td>\n",
              "      <td>-0.700332</td>\n",
              "      <td>0.898085</td>\n",
              "      <td>-1.862164</td>\n",
              "      <td>2.874379</td>\n",
              "      <td>-0.058303</td>\n",
              "      <td>-0.643296</td>\n",
              "      <td>0.156046</td>\n",
              "      <td>1.778672</td>\n",
              "      <td>-0.588301</td>\n",
              "      <td>2.005192</td>\n",
              "    </tr>\n",
              "    <tr>\n",
              "      <th>209</th>\n",
              "      <td>1.675147</td>\n",
              "      <td>-0.495808</td>\n",
              "      <td>1.853443</td>\n",
              "      <td>-1.862164</td>\n",
              "      <td>1.089766</td>\n",
              "      <td>0.524423</td>\n",
              "      <td>-0.766090</td>\n",
              "      <td>-0.392060</td>\n",
              "      <td>2.844912</td>\n",
              "      <td>-0.588301</td>\n",
              "      <td>2.005192</td>\n",
              "    </tr>\n",
              "    <tr>\n",
              "      <th>210</th>\n",
              "      <td>1.691411</td>\n",
              "      <td>0.757727</td>\n",
              "      <td>1.167545</td>\n",
              "      <td>-1.862164</td>\n",
              "      <td>1.149921</td>\n",
              "      <td>0.990604</td>\n",
              "      <td>-0.766090</td>\n",
              "      <td>-0.363952</td>\n",
              "      <td>2.945501</td>\n",
              "      <td>-0.588301</td>\n",
              "      <td>2.005192</td>\n",
              "    </tr>\n",
              "    <tr>\n",
              "      <th>211</th>\n",
              "      <td>1.707675</td>\n",
              "      <td>-0.607966</td>\n",
              "      <td>1.192041</td>\n",
              "      <td>-1.862164</td>\n",
              "      <td>0.989506</td>\n",
              "      <td>1.236644</td>\n",
              "      <td>-0.766090</td>\n",
              "      <td>-0.335844</td>\n",
              "      <td>2.804676</td>\n",
              "      <td>-0.588301</td>\n",
              "      <td>2.005192</td>\n",
              "    </tr>\n",
              "    <tr>\n",
              "      <th>212</th>\n",
              "      <td>1.723938</td>\n",
              "      <td>-0.410039</td>\n",
              "      <td>1.008318</td>\n",
              "      <td>-1.862164</td>\n",
              "      <td>1.270232</td>\n",
              "      <td>0.912907</td>\n",
              "      <td>-0.766090</td>\n",
              "      <td>-0.237466</td>\n",
              "      <td>3.005854</td>\n",
              "      <td>-0.588301</td>\n",
              "      <td>2.005192</td>\n",
              "    </tr>\n",
              "  </tbody>\n",
              "</table>\n",
              "<p>213 rows × 11 columns</p>\n",
              "</div>\n",
              "      <button class=\"colab-df-convert\" onclick=\"convertToInteractive('df-adb85ec3-51c8-4b58-a044-3096017db12c')\"\n",
              "              title=\"Convert this dataframe to an interactive table.\"\n",
              "              style=\"display:none;\">\n",
              "        \n",
              "  <svg xmlns=\"http://www.w3.org/2000/svg\" height=\"24px\"viewBox=\"0 0 24 24\"\n",
              "       width=\"24px\">\n",
              "    <path d=\"M0 0h24v24H0V0z\" fill=\"none\"/>\n",
              "    <path d=\"M18.56 5.44l.94 2.06.94-2.06 2.06-.94-2.06-.94-.94-2.06-.94 2.06-2.06.94zm-11 1L8.5 8.5l.94-2.06 2.06-.94-2.06-.94L8.5 2.5l-.94 2.06-2.06.94zm10 10l.94 2.06.94-2.06 2.06-.94-2.06-.94-.94-2.06-.94 2.06-2.06.94z\"/><path d=\"M17.41 7.96l-1.37-1.37c-.4-.4-.92-.59-1.43-.59-.52 0-1.04.2-1.43.59L10.3 9.45l-7.72 7.72c-.78.78-.78 2.05 0 2.83L4 21.41c.39.39.9.59 1.41.59.51 0 1.02-.2 1.41-.59l7.78-7.78 2.81-2.81c.8-.78.8-2.07 0-2.86zM5.41 20L4 18.59l7.72-7.72 1.47 1.35L5.41 20z\"/>\n",
              "  </svg>\n",
              "      </button>\n",
              "      \n",
              "  <style>\n",
              "    .colab-df-container {\n",
              "      display:flex;\n",
              "      flex-wrap:wrap;\n",
              "      gap: 12px;\n",
              "    }\n",
              "\n",
              "    .colab-df-convert {\n",
              "      background-color: #E8F0FE;\n",
              "      border: none;\n",
              "      border-radius: 50%;\n",
              "      cursor: pointer;\n",
              "      display: none;\n",
              "      fill: #1967D2;\n",
              "      height: 32px;\n",
              "      padding: 0 0 0 0;\n",
              "      width: 32px;\n",
              "    }\n",
              "\n",
              "    .colab-df-convert:hover {\n",
              "      background-color: #E2EBFA;\n",
              "      box-shadow: 0px 1px 2px rgba(60, 64, 67, 0.3), 0px 1px 3px 1px rgba(60, 64, 67, 0.15);\n",
              "      fill: #174EA6;\n",
              "    }\n",
              "\n",
              "    [theme=dark] .colab-df-convert {\n",
              "      background-color: #3B4455;\n",
              "      fill: #D2E3FC;\n",
              "    }\n",
              "\n",
              "    [theme=dark] .colab-df-convert:hover {\n",
              "      background-color: #434B5C;\n",
              "      box-shadow: 0px 1px 3px 1px rgba(0, 0, 0, 0.15);\n",
              "      filter: drop-shadow(0px 1px 2px rgba(0, 0, 0, 0.3));\n",
              "      fill: #FFFFFF;\n",
              "    }\n",
              "  </style>\n",
              "\n",
              "      <script>\n",
              "        const buttonEl =\n",
              "          document.querySelector('#df-adb85ec3-51c8-4b58-a044-3096017db12c button.colab-df-convert');\n",
              "        buttonEl.style.display =\n",
              "          google.colab.kernel.accessAllowed ? 'block' : 'none';\n",
              "\n",
              "        async function convertToInteractive(key) {\n",
              "          const element = document.querySelector('#df-adb85ec3-51c8-4b58-a044-3096017db12c');\n",
              "          const dataTable =\n",
              "            await google.colab.kernel.invokeFunction('convertToInteractive',\n",
              "                                                     [key], {});\n",
              "          if (!dataTable) return;\n",
              "\n",
              "          const docLinkHtml = 'Like what you see? Visit the ' +\n",
              "            '<a target=\"_blank\" href=https://colab.research.google.com/notebooks/data_table.ipynb>data table notebook</a>'\n",
              "            + ' to learn more about interactive tables.';\n",
              "          element.innerHTML = '';\n",
              "          dataTable['output_type'] = 'display_data';\n",
              "          await google.colab.output.renderOutput(dataTable, element);\n",
              "          const docLink = document.createElement('div');\n",
              "          docLink.innerHTML = docLinkHtml;\n",
              "          element.appendChild(docLink);\n",
              "        }\n",
              "      </script>\n",
              "    </div>\n",
              "  </div>\n",
              "  "
            ]
          },
          "metadata": {},
          "execution_count": 42
        }
      ]
    },
    {
      "cell_type": "code",
      "execution_count": 30,
      "id": "bf5257c1",
      "metadata": {
        "colab": {
          "base_uri": "https://localhost:8080/",
          "height": 451
        },
        "id": "bf5257c1",
        "outputId": "09cb41da-229c-4a88-8ce7-b4dc0d000fb5"
      },
      "outputs": [
        {
          "output_type": "execute_result",
          "data": {
            "text/plain": [
              "                 0             1             2             3             4   \\\n",
              "count  2.130000e+02  2.130000e+02  2.130000e+02  2.130000e+02  2.130000e+02   \n",
              "mean   6.671763e-17 -5.837792e-15 -1.717979e-15  6.671763e-17 -1.000764e-16   \n",
              "std    1.002356e+00  1.002356e+00  1.002356e+00  1.002356e+00  1.002356e+00   \n",
              "min   -1.723938e+00 -2.376110e+00 -3.278544e+00 -1.862164e+00 -2.319047e+00   \n",
              "25%   -8.619691e-01 -6.046672e-01 -6.206894e-01 -4.078139e-01 -5.143814e-01   \n",
              "50%    0.000000e+00 -2.220092e-01 -1.307623e-01  5.594332e-01 -1.735002e-01   \n",
              "75%    8.619691e-01  2.629109e-01  5.183912e-01  6.429366e-01  3.678995e-01   \n",
              "max    1.723938e+00  5.138502e+00  4.866495e+00  9.073639e-01  4.117593e+00   \n",
              "\n",
              "                 5             6             7             8             9   \\\n",
              "count  2.130000e+02  2.130000e+02  2.130000e+02  2.130000e+02  2.130000e+02   \n",
              "mean   1.460491e-14 -4.169852e-17 -3.836264e-16 -3.335881e-17 -1.355202e-17   \n",
              "std    1.002356e+00  1.002356e+00  1.002356e+00  1.002356e+00  1.002356e+00   \n",
              "min   -3.684153e+00 -7.660897e-01 -2.479079e+00 -3.538076e-01 -5.883011e-01   \n",
              "25%   -4.856353e-01 -5.665504e-01 -5.044924e-01 -3.538076e-01 -5.883011e-01   \n",
              "50%    1.747874e-01  9.346424e-02 -2.515204e-01 -3.538076e-01 -5.883011e-01   \n",
              "75%    5.632713e-01  1.702101e-01  1.560456e-01 -3.538076e-01  4.388147e-01   \n",
              "max    3.567547e+00  8.765749e+00  5.081972e+00  5.983278e+00  4.649990e+00   \n",
              "\n",
              "                 10  \n",
              "count  2.130000e+02  \n",
              "mean   1.334353e-16  \n",
              "std    1.002356e+00  \n",
              "min   -8.517035e-01  \n",
              "25%   -8.517035e-01  \n",
              "50%   -3.755543e-01  \n",
              "75%    1.005949e-01  \n",
              "max    2.005192e+00  "
            ],
            "text/html": [
              "\n",
              "  <div id=\"df-82fa9827-6254-4517-a64e-9ae45b27d31c\">\n",
              "    <div class=\"colab-df-container\">\n",
              "      <div>\n",
              "<style scoped>\n",
              "    .dataframe tbody tr th:only-of-type {\n",
              "        vertical-align: middle;\n",
              "    }\n",
              "\n",
              "    .dataframe tbody tr th {\n",
              "        vertical-align: top;\n",
              "    }\n",
              "\n",
              "    .dataframe thead th {\n",
              "        text-align: right;\n",
              "    }\n",
              "</style>\n",
              "<table border=\"1\" class=\"dataframe\">\n",
              "  <thead>\n",
              "    <tr style=\"text-align: right;\">\n",
              "      <th></th>\n",
              "      <th>0</th>\n",
              "      <th>1</th>\n",
              "      <th>2</th>\n",
              "      <th>3</th>\n",
              "      <th>4</th>\n",
              "      <th>5</th>\n",
              "      <th>6</th>\n",
              "      <th>7</th>\n",
              "      <th>8</th>\n",
              "      <th>9</th>\n",
              "      <th>10</th>\n",
              "    </tr>\n",
              "  </thead>\n",
              "  <tbody>\n",
              "    <tr>\n",
              "      <th>count</th>\n",
              "      <td>2.130000e+02</td>\n",
              "      <td>2.130000e+02</td>\n",
              "      <td>2.130000e+02</td>\n",
              "      <td>2.130000e+02</td>\n",
              "      <td>2.130000e+02</td>\n",
              "      <td>2.130000e+02</td>\n",
              "      <td>2.130000e+02</td>\n",
              "      <td>2.130000e+02</td>\n",
              "      <td>2.130000e+02</td>\n",
              "      <td>2.130000e+02</td>\n",
              "      <td>2.130000e+02</td>\n",
              "    </tr>\n",
              "    <tr>\n",
              "      <th>mean</th>\n",
              "      <td>6.671763e-17</td>\n",
              "      <td>-5.837792e-15</td>\n",
              "      <td>-1.717979e-15</td>\n",
              "      <td>6.671763e-17</td>\n",
              "      <td>-1.000764e-16</td>\n",
              "      <td>1.460491e-14</td>\n",
              "      <td>-4.169852e-17</td>\n",
              "      <td>-3.836264e-16</td>\n",
              "      <td>-3.335881e-17</td>\n",
              "      <td>-1.355202e-17</td>\n",
              "      <td>1.334353e-16</td>\n",
              "    </tr>\n",
              "    <tr>\n",
              "      <th>std</th>\n",
              "      <td>1.002356e+00</td>\n",
              "      <td>1.002356e+00</td>\n",
              "      <td>1.002356e+00</td>\n",
              "      <td>1.002356e+00</td>\n",
              "      <td>1.002356e+00</td>\n",
              "      <td>1.002356e+00</td>\n",
              "      <td>1.002356e+00</td>\n",
              "      <td>1.002356e+00</td>\n",
              "      <td>1.002356e+00</td>\n",
              "      <td>1.002356e+00</td>\n",
              "      <td>1.002356e+00</td>\n",
              "    </tr>\n",
              "    <tr>\n",
              "      <th>min</th>\n",
              "      <td>-1.723938e+00</td>\n",
              "      <td>-2.376110e+00</td>\n",
              "      <td>-3.278544e+00</td>\n",
              "      <td>-1.862164e+00</td>\n",
              "      <td>-2.319047e+00</td>\n",
              "      <td>-3.684153e+00</td>\n",
              "      <td>-7.660897e-01</td>\n",
              "      <td>-2.479079e+00</td>\n",
              "      <td>-3.538076e-01</td>\n",
              "      <td>-5.883011e-01</td>\n",
              "      <td>-8.517035e-01</td>\n",
              "    </tr>\n",
              "    <tr>\n",
              "      <th>25%</th>\n",
              "      <td>-8.619691e-01</td>\n",
              "      <td>-6.046672e-01</td>\n",
              "      <td>-6.206894e-01</td>\n",
              "      <td>-4.078139e-01</td>\n",
              "      <td>-5.143814e-01</td>\n",
              "      <td>-4.856353e-01</td>\n",
              "      <td>-5.665504e-01</td>\n",
              "      <td>-5.044924e-01</td>\n",
              "      <td>-3.538076e-01</td>\n",
              "      <td>-5.883011e-01</td>\n",
              "      <td>-8.517035e-01</td>\n",
              "    </tr>\n",
              "    <tr>\n",
              "      <th>50%</th>\n",
              "      <td>0.000000e+00</td>\n",
              "      <td>-2.220092e-01</td>\n",
              "      <td>-1.307623e-01</td>\n",
              "      <td>5.594332e-01</td>\n",
              "      <td>-1.735002e-01</td>\n",
              "      <td>1.747874e-01</td>\n",
              "      <td>9.346424e-02</td>\n",
              "      <td>-2.515204e-01</td>\n",
              "      <td>-3.538076e-01</td>\n",
              "      <td>-5.883011e-01</td>\n",
              "      <td>-3.755543e-01</td>\n",
              "    </tr>\n",
              "    <tr>\n",
              "      <th>75%</th>\n",
              "      <td>8.619691e-01</td>\n",
              "      <td>2.629109e-01</td>\n",
              "      <td>5.183912e-01</td>\n",
              "      <td>6.429366e-01</td>\n",
              "      <td>3.678995e-01</td>\n",
              "      <td>5.632713e-01</td>\n",
              "      <td>1.702101e-01</td>\n",
              "      <td>1.560456e-01</td>\n",
              "      <td>-3.538076e-01</td>\n",
              "      <td>4.388147e-01</td>\n",
              "      <td>1.005949e-01</td>\n",
              "    </tr>\n",
              "    <tr>\n",
              "      <th>max</th>\n",
              "      <td>1.723938e+00</td>\n",
              "      <td>5.138502e+00</td>\n",
              "      <td>4.866495e+00</td>\n",
              "      <td>9.073639e-01</td>\n",
              "      <td>4.117593e+00</td>\n",
              "      <td>3.567547e+00</td>\n",
              "      <td>8.765749e+00</td>\n",
              "      <td>5.081972e+00</td>\n",
              "      <td>5.983278e+00</td>\n",
              "      <td>4.649990e+00</td>\n",
              "      <td>2.005192e+00</td>\n",
              "    </tr>\n",
              "  </tbody>\n",
              "</table>\n",
              "</div>\n",
              "      <button class=\"colab-df-convert\" onclick=\"convertToInteractive('df-82fa9827-6254-4517-a64e-9ae45b27d31c')\"\n",
              "              title=\"Convert this dataframe to an interactive table.\"\n",
              "              style=\"display:none;\">\n",
              "        \n",
              "  <svg xmlns=\"http://www.w3.org/2000/svg\" height=\"24px\"viewBox=\"0 0 24 24\"\n",
              "       width=\"24px\">\n",
              "    <path d=\"M0 0h24v24H0V0z\" fill=\"none\"/>\n",
              "    <path d=\"M18.56 5.44l.94 2.06.94-2.06 2.06-.94-2.06-.94-.94-2.06-.94 2.06-2.06.94zm-11 1L8.5 8.5l.94-2.06 2.06-.94-2.06-.94L8.5 2.5l-.94 2.06-2.06.94zm10 10l.94 2.06.94-2.06 2.06-.94-2.06-.94-.94-2.06-.94 2.06-2.06.94z\"/><path d=\"M17.41 7.96l-1.37-1.37c-.4-.4-.92-.59-1.43-.59-.52 0-1.04.2-1.43.59L10.3 9.45l-7.72 7.72c-.78.78-.78 2.05 0 2.83L4 21.41c.39.39.9.59 1.41.59.51 0 1.02-.2 1.41-.59l7.78-7.78 2.81-2.81c.8-.78.8-2.07 0-2.86zM5.41 20L4 18.59l7.72-7.72 1.47 1.35L5.41 20z\"/>\n",
              "  </svg>\n",
              "      </button>\n",
              "      \n",
              "  <style>\n",
              "    .colab-df-container {\n",
              "      display:flex;\n",
              "      flex-wrap:wrap;\n",
              "      gap: 12px;\n",
              "    }\n",
              "\n",
              "    .colab-df-convert {\n",
              "      background-color: #E8F0FE;\n",
              "      border: none;\n",
              "      border-radius: 50%;\n",
              "      cursor: pointer;\n",
              "      display: none;\n",
              "      fill: #1967D2;\n",
              "      height: 32px;\n",
              "      padding: 0 0 0 0;\n",
              "      width: 32px;\n",
              "    }\n",
              "\n",
              "    .colab-df-convert:hover {\n",
              "      background-color: #E2EBFA;\n",
              "      box-shadow: 0px 1px 2px rgba(60, 64, 67, 0.3), 0px 1px 3px 1px rgba(60, 64, 67, 0.15);\n",
              "      fill: #174EA6;\n",
              "    }\n",
              "\n",
              "    [theme=dark] .colab-df-convert {\n",
              "      background-color: #3B4455;\n",
              "      fill: #D2E3FC;\n",
              "    }\n",
              "\n",
              "    [theme=dark] .colab-df-convert:hover {\n",
              "      background-color: #434B5C;\n",
              "      box-shadow: 0px 1px 3px 1px rgba(0, 0, 0, 0.15);\n",
              "      filter: drop-shadow(0px 1px 2px rgba(0, 0, 0, 0.3));\n",
              "      fill: #FFFFFF;\n",
              "    }\n",
              "  </style>\n",
              "\n",
              "      <script>\n",
              "        const buttonEl =\n",
              "          document.querySelector('#df-82fa9827-6254-4517-a64e-9ae45b27d31c button.colab-df-convert');\n",
              "        buttonEl.style.display =\n",
              "          google.colab.kernel.accessAllowed ? 'block' : 'none';\n",
              "\n",
              "        async function convertToInteractive(key) {\n",
              "          const element = document.querySelector('#df-82fa9827-6254-4517-a64e-9ae45b27d31c');\n",
              "          const dataTable =\n",
              "            await google.colab.kernel.invokeFunction('convertToInteractive',\n",
              "                                                     [key], {});\n",
              "          if (!dataTable) return;\n",
              "\n",
              "          const docLinkHtml = 'Like what you see? Visit the ' +\n",
              "            '<a target=\"_blank\" href=https://colab.research.google.com/notebooks/data_table.ipynb>data table notebook</a>'\n",
              "            + ' to learn more about interactive tables.';\n",
              "          element.innerHTML = '';\n",
              "          dataTable['output_type'] = 'display_data';\n",
              "          await google.colab.output.renderOutput(dataTable, element);\n",
              "          const docLink = document.createElement('div');\n",
              "          docLink.innerHTML = docLinkHtml;\n",
              "          element.appendChild(docLink);\n",
              "        }\n",
              "      </script>\n",
              "    </div>\n",
              "  </div>\n",
              "  "
            ]
          },
          "metadata": {},
          "execution_count": 30
        }
      ],
      "source": [
        "df_new.describe() #mean 0 and std close to 1"
      ]
    },
    {
      "cell_type": "code",
      "execution_count": 31,
      "id": "25a40069",
      "metadata": {
        "colab": {
          "base_uri": "https://localhost:8080/",
          "height": 52
        },
        "id": "25a40069",
        "outputId": "c372155e-bc84-41ab-cc2b-5abf95135e32"
      },
      "outputs": [
        {
          "output_type": "execute_result",
          "data": {
            "text/plain": [
              "<Figure size 432x288 with 0 Axes>"
            ]
          },
          "metadata": {},
          "execution_count": 31
        },
        {
          "output_type": "display_data",
          "data": {
            "text/plain": [
              "<Figure size 432x288 with 0 Axes>"
            ]
          },
          "metadata": {}
        }
      ],
      "source": [
        "from sklearn.decomposition import PCA\n",
        "import matplotlib.pyplot as plt\n",
        "pca = PCA()\n",
        "pca.fit_transform(df_new)\n",
        "plt.figure()"
      ]
    },
    {
      "cell_type": "code",
      "source": [
        "pca.explained_variance_ratio_\n"
      ],
      "metadata": {
        "colab": {
          "base_uri": "https://localhost:8080/"
        },
        "id": "woq-spnUmXkE",
        "outputId": "7d7268b0-82b6-4a37-c8a9-bd92de60fee3"
      },
      "id": "woq-spnUmXkE",
      "execution_count": 32,
      "outputs": [
        {
          "output_type": "execute_result",
          "data": {
            "text/plain": [
              "array([3.33136040e-01, 2.14627249e-01, 1.28456957e-01, 1.05915361e-01,\n",
              "       8.32685598e-02, 5.52476553e-02, 3.36589317e-02, 3.31740927e-02,\n",
              "       7.54535861e-03, 4.82693821e-03, 1.42855992e-04])"
            ]
          },
          "metadata": {},
          "execution_count": 32
        }
      ]
    },
    {
      "cell_type": "code",
      "source": [
        "plt.plot(np.cumsum(pca.explained_variance_ratio_)) #keep 6cols we will be able to explain 92  percent of the data"
      ],
      "metadata": {
        "id": "KLXXe9KjolZK",
        "outputId": "692ca564-f5e8-42e6-9f31-207dad0d5ae8",
        "colab": {
          "base_uri": "https://localhost:8080/",
          "height": 282
        }
      },
      "id": "KLXXe9KjolZK",
      "execution_count": 37,
      "outputs": [
        {
          "output_type": "execute_result",
          "data": {
            "text/plain": [
              "[<matplotlib.lines.Line2D at 0x7efd83064590>]"
            ]
          },
          "metadata": {},
          "execution_count": 37
        },
        {
          "output_type": "display_data",
          "data": {
            "text/plain": [
              "<Figure size 432x288 with 1 Axes>"
            ],
            "image/png": "[encoded data removed]"
          },
          "metadata": {
            "needs_background": "light"
          }
        }
      ]
    },
    {
      "cell_type": "code",
      "source": [
        "pca1 = PCA(n_components=6)\n",
        "data1 = pca1.fit_transform(df_new)"
      ],
      "metadata": {
        "id": "fD1BBugXGG1V"
      },
      "id": "fD1BBugXGG1V",
      "execution_count": 38,
      "outputs": []
    },
    {
      "cell_type": "code",
      "source": [
        "data1"
      ],
      "metadata": {
        "id": "ZPbfeDyoH_i6",
        "outputId": "a1eeb46e-8546-4390-ac07-fe95337f864d",
        "colab": {
          "base_uri": "https://localhost:8080/"
        }
      },
      "id": "ZPbfeDyoH_i6",
      "execution_count": 39,
      "outputs": [
        {
          "output_type": "execute_result",
          "data": {
            "text/plain": [
              "array([[-1.30283853, -1.19567469, -0.53609326,  0.89669716, -0.29243888,\n",
              "         0.47209041],\n",
              "       [-1.18161077, -1.57499969, -0.5512153 ,  0.35398795, -0.27325395,\n",
              "         0.73606077],\n",
              "       [-1.63279827, -0.97278883, -0.13344085,  0.49261997, -0.50882586,\n",
              "         0.6655142 ],\n",
              "       ...,\n",
              "       [ 4.3564502 ,  0.99021541, -0.76972684,  0.20101551,  0.42189825,\n",
              "         1.48118281],\n",
              "       [ 4.46888112,  0.14658049, -1.09448276, -0.16937802,  0.49114266,\n",
              "         1.27178421],\n",
              "       [ 4.5447483 ,  0.3870332 , -0.73480588, -0.04248675,  0.47805177,\n",
              "         1.48910683]])"
            ]
          },
          "metadata": {},
          "execution_count": 39
        }
      ]
    },
    {
      "cell_type": "code",
      "source": [
        "pd.DataFrame(data1, columns=[\"PC1\",\"PC2\",\"PC3\",\"PC4\",\"PC5\",\"PC6\"])"
      ],
      "metadata": {
        "id": "JACUR7KBIAEA",
        "outputId": "ff9fd460-ef3b-4e6d-f1ef-1f56b624a2be",
        "colab": {
          "base_uri": "https://localhost:8080/",
          "height": 424
        }
      },
      "id": "JACUR7KBIAEA",
      "execution_count": 41,
      "outputs": [
        {
          "output_type": "execute_result",
          "data": {
            "text/plain": [
              "          PC1       PC2       PC3       PC4       PC5       PC6\n",
              "0   -1.302839 -1.195675 -0.536093  0.896697 -0.292439  0.472090\n",
              "1   -1.181611 -1.575000 -0.551215  0.353988 -0.273254  0.736061\n",
              "2   -1.632798 -0.972789 -0.133441  0.492620 -0.508826  0.665514\n",
              "3   -1.561819 -1.202281 -0.513530  0.161779 -0.464099  0.710991\n",
              "4   -1.690608 -1.270442  0.782988 -0.918469  1.782350  0.391254\n",
              "..        ...       ...       ...       ...       ...       ...\n",
              "208  4.600387  0.305450  0.247295 -0.057255  0.082063  0.724837\n",
              "209  4.632656  0.316400 -0.929131  0.668746  0.598443  1.001852\n",
              "210  4.356450  0.990215 -0.769727  0.201016  0.421898  1.481183\n",
              "211  4.468881  0.146580 -1.094483 -0.169378  0.491143  1.271784\n",
              "212  4.544748  0.387033 -0.734806 -0.042487  0.478052  1.489107\n",
              "\n",
              "[213 rows x 6 columns]"
            ],
            "text/html": [
              "\n",
              "  <div id=\"df-cd3839a5-2f85-422c-a637-5588754179a4\">\n",
              "    <div class=\"colab-df-container\">\n",
              "      <div>\n",
              "<style scoped>\n",
              "    .dataframe tbody tr th:only-of-type {\n",
              "        vertical-align: middle;\n",
              "    }\n",
              "\n",
              "    .dataframe tbody tr th {\n",
              "        vertical-align: top;\n",
              "    }\n",
              "\n",
              "    .dataframe thead th {\n",
              "        text-align: right;\n",
              "    }\n",
              "</style>\n",
              "<table border=\"1\" class=\"dataframe\">\n",
              "  <thead>\n",
              "    <tr style=\"text-align: right;\">\n",
              "      <th></th>\n",
              "      <th>PC1</th>\n",
              "      <th>PC2</th>\n",
              "      <th>PC3</th>\n",
              "      <th>PC4</th>\n",
              "      <th>PC5</th>\n",
              "      <th>PC6</th>\n",
              "    </tr>\n",
              "  </thead>\n",
              "  <tbody>\n",
              "    <tr>\n",
              "      <th>0</th>\n",
              "      <td>-1.302839</td>\n",
              "      <td>-1.195675</td>\n",
              "      <td>-0.536093</td>\n",
              "      <td>0.896697</td>\n",
              "      <td>-0.292439</td>\n",
              "      <td>0.472090</td>\n",
              "    </tr>\n",
              "    <tr>\n",
              "      <th>1</th>\n",
              "      <td>-1.181611</td>\n",
              "      <td>-1.575000</td>\n",
              "      <td>-0.551215</td>\n",
              "      <td>0.353988</td>\n",
              "      <td>-0.273254</td>\n",
              "      <td>0.736061</td>\n",
              "    </tr>\n",
              "    <tr>\n",
              "      <th>2</th>\n",
              "      <td>-1.632798</td>\n",
              "      <td>-0.972789</td>\n",
              "      <td>-0.133441</td>\n",
              "      <td>0.492620</td>\n",
              "      <td>-0.508826</td>\n",
              "      <td>0.665514</td>\n",
              "    </tr>\n",
              "    <tr>\n",
              "      <th>3</th>\n",
              "      <td>-1.561819</td>\n",
              "      <td>-1.202281</td>\n",
              "      <td>-0.513530</td>\n",
              "      <td>0.161779</td>\n",
              "      <td>-0.464099</td>\n",
              "      <td>0.710991</td>\n",
              "    </tr>\n",
              "    <tr>\n",
              "      <th>4</th>\n",
              "      <td>-1.690608</td>\n",
              "      <td>-1.270442</td>\n",
              "      <td>0.782988</td>\n",
              "      <td>-0.918469</td>\n",
              "      <td>1.782350</td>\n",
              "      <td>0.391254</td>\n",
              "    </tr>\n",
              "    <tr>\n",
              "      <th>...</th>\n",
              "      <td>...</td>\n",
              "      <td>...</td>\n",
              "      <td>...</td>\n",
              "      <td>...</td>\n",
              "      <td>...</td>\n",
              "      <td>...</td>\n",
              "    </tr>\n",
              "    <tr>\n",
              "      <th>208</th>\n",
              "      <td>4.600387</td>\n",
              "      <td>0.305450</td>\n",
              "      <td>0.247295</td>\n",
              "      <td>-0.057255</td>\n",
              "      <td>0.082063</td>\n",
              "      <td>0.724837</td>\n",
              "    </tr>\n",
              "    <tr>\n",
              "      <th>209</th>\n",
              "      <td>4.632656</td>\n",
              "      <td>0.316400</td>\n",
              "      <td>-0.929131</td>\n",
              "      <td>0.668746</td>\n",
              "      <td>0.598443</td>\n",
              "      <td>1.001852</td>\n",
              "    </tr>\n",
              "    <tr>\n",
              "      <th>210</th>\n",
              "      <td>4.356450</td>\n",
              "      <td>0.990215</td>\n",
              "      <td>-0.769727</td>\n",
              "      <td>0.201016</td>\n",
              "      <td>0.421898</td>\n",
              "      <td>1.481183</td>\n",
              "    </tr>\n",
              "    <tr>\n",
              "      <th>211</th>\n",
              "      <td>4.468881</td>\n",
              "      <td>0.146580</td>\n",
              "      <td>-1.094483</td>\n",
              "      <td>-0.169378</td>\n",
              "      <td>0.491143</td>\n",
              "      <td>1.271784</td>\n",
              "    </tr>\n",
              "    <tr>\n",
              "      <th>212</th>\n",
              "      <td>4.544748</td>\n",
              "      <td>0.387033</td>\n",
              "      <td>-0.734806</td>\n",
              "      <td>-0.042487</td>\n",
              "      <td>0.478052</td>\n",
              "      <td>1.489107</td>\n",
              "    </tr>\n",
              "  </tbody>\n",
              "</table>\n",
              "<p>213 rows × 6 columns</p>\n",
              "</div>\n",
              "      <button class=\"colab-df-convert\" onclick=\"convertToInteractive('df-cd3839a5-2f85-422c-a637-5588754179a4')\"\n",
              "              title=\"Convert this dataframe to an interactive table.\"\n",
              "              style=\"display:none;\">\n",
              "        \n",
              "  <svg xmlns=\"http://www.w3.org/2000/svg\" height=\"24px\"viewBox=\"0 0 24 24\"\n",
              "       width=\"24px\">\n",
              "    <path d=\"M0 0h24v24H0V0z\" fill=\"none\"/>\n",
              "    <path d=\"M18.56 5.44l.94 2.06.94-2.06 2.06-.94-2.06-.94-.94-2.06-.94 2.06-2.06.94zm-11 1L8.5 8.5l.94-2.06 2.06-.94-2.06-.94L8.5 2.5l-.94 2.06-2.06.94zm10 10l.94 2.06.94-2.06 2.06-.94-2.06-.94-.94-2.06-.94 2.06-2.06.94z\"/><path d=\"M17.41 7.96l-1.37-1.37c-.4-.4-.92-.59-1.43-.59-.52 0-1.04.2-1.43.59L10.3 9.45l-7.72 7.72c-.78.78-.78 2.05 0 2.83L4 21.41c.39.39.9.59 1.41.59.51 0 1.02-.2 1.41-.59l7.78-7.78 2.81-2.81c.8-.78.8-2.07 0-2.86zM5.41 20L4 18.59l7.72-7.72 1.47 1.35L5.41 20z\"/>\n",
              "  </svg>\n",
              "      </button>\n",
              "      \n",
              "  <style>\n",
              "    .colab-df-container {\n",
              "      display:flex;\n",
              "      flex-wrap:wrap;\n",
              "      gap: 12px;\n",
              "    }\n",
              "\n",
              "    .colab-df-convert {\n",
              "      background-color: #E8F0FE;\n",
              "      border: none;\n",
              "      border-radius: 50%;\n",
              "      cursor: pointer;\n",
              "      display: none;\n",
              "      fill: #1967D2;\n",
              "      height: 32px;\n",
              "      padding: 0 0 0 0;\n",
              "      width: 32px;\n",
              "    }\n",
              "\n",
              "    .colab-df-convert:hover {\n",
              "      background-color: #E2EBFA;\n",
              "      box-shadow: 0px 1px 2px rgba(60, 64, 67, 0.3), 0px 1px 3px 1px rgba(60, 64, 67, 0.15);\n",
              "      fill: #174EA6;\n",
              "    }\n",
              "\n",
              "    [theme=dark] .colab-df-convert {\n",
              "      background-color: #3B4455;\n",
              "      fill: #D2E3FC;\n",
              "    }\n",
              "\n",
              "    [theme=dark] .colab-df-convert:hover {\n",
              "      background-color: #434B5C;\n",
              "      box-shadow: 0px 1px 3px 1px rgba(0, 0, 0, 0.15);\n",
              "      filter: drop-shadow(0px 1px 2px rgba(0, 0, 0, 0.3));\n",
              "      fill: #FFFFFF;\n",
              "    }\n",
              "  </style>\n",
              "\n",
              "      <script>\n",
              "        const buttonEl =\n",
              "          document.querySelector('#df-cd3839a5-2f85-422c-a637-5588754179a4 button.colab-df-convert');\n",
              "        buttonEl.style.display =\n",
              "          google.colab.kernel.accessAllowed ? 'block' : 'none';\n",
              "\n",
              "        async function convertToInteractive(key) {\n",
              "          const element = document.querySelector('#df-cd3839a5-2f85-422c-a637-5588754179a4');\n",
              "          const dataTable =\n",
              "            await google.colab.kernel.invokeFunction('convertToInteractive',\n",
              "                                                     [key], {});\n",
              "          if (!dataTable) return;\n",
              "\n",
              "          const docLinkHtml = 'Like what you see? Visit the ' +\n",
              "            '<a target=\"_blank\" href=https://colab.research.google.com/notebooks/data_table.ipynb>data table notebook</a>'\n",
              "            + ' to learn more about interactive tables.';\n",
              "          element.innerHTML = '';\n",
              "          dataTable['output_type'] = 'display_data';\n",
              "          await google.colab.output.renderOutput(dataTable, element);\n",
              "          const docLink = document.createElement('div');\n",
              "          docLink.innerHTML = docLinkHtml;\n",
              "          element.appendChild(docLink);\n",
              "        }\n",
              "      </script>\n",
              "    </div>\n",
              "  </div>\n",
              "  "
            ]
          },
          "metadata": {},
          "execution_count": 41
        }
      ]
    },
    {
      "cell_type": "markdown",
      "source": [
        "Can explain 90 percent of the data only using 6components"
      ],
      "metadata": {
        "id": "OYLk-r8ZS6CU"
      },
      "id": "OYLk-r8ZS6CU"
    },
    {
      "cell_type": "code",
      "source": [
        ""
      ],
      "metadata": {
        "id": "RgVyeAKYIoQa"
      },
      "id": "RgVyeAKYIoQa",
      "execution_count": null,
      "outputs": []
    }
  ],
  "metadata": {
    "kernelspec": {
      "display_name": "Python 3 (ipykernel)",
      "language": "python",
      "name": "python3"
    },
    "language_info": {
      "codemirror_mode": {
        "name": "ipython",
        "version": 3
      },
      "file_extension": ".py",
      "mimetype": "text/x-python",
      "name": "python",
      "nbconvert_exporter": "python",
      "pygments_lexer": "ipython3",
      "version": "3.9.7"
    },
    "colab": {
      "name": "Dimensionality reduction raw_technique.ipynb",
      "provenance": []
    }
  },
  "nbformat": 4,
  "nbformat_minor": 5
}