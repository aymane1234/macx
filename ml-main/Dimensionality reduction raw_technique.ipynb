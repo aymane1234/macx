{
  "cells": [
    {
      "cell_type": "code",
      "execution_count": 3,
      "id": "ea3664fd",
      "metadata": {
        "id": "ea3664fd"
      },
      "outputs": [],
      "source": [
        "import pandas as pd\n",
        "import numpy as np"
      ]
    },
    {
      "cell_type": "code",
      "execution_count": 4,
      "id": "99965989",
      "metadata": {
        "id": "99965989"
      },
      "outputs": [],
      "source": [
        "A  = np.array([\n",
        "    [3,7],\n",
        "    [-4,-6],\n",
        "    [7,8],\n",
        "    [1,-1],\n",
        "    [-4,-1],\n",
        "    [-3,-7]\n",
        "    \n",
        "])"
      ]
    },
    {
      "cell_type": "code",
      "execution_count": 5,
      "id": "a3cab804",
      "metadata": {
        "id": "a3cab804",
        "outputId": "a4c00892-cc3f-4385-ed8d-3af965a32254",
        "colab": {
          "base_uri": "https://localhost:8080/"
        }
      },
      "outputs": [
        {
          "output_type": "execute_result",
          "data": {
            "text/plain": [
              "array([[ 3,  7],\n",
              "       [-4, -6],\n",
              "       [ 7,  8],\n",
              "       [ 1, -1],\n",
              "       [-4, -1],\n",
              "       [-3, -7]])"
            ]
          },
          "metadata": {},
          "execution_count": 5
        }
      ],
      "source": [
        "A"
      ]
    },
    {
      "cell_type": "code",
      "execution_count": 6,
      "id": "faaf0260",
      "metadata": {
        "id": "faaf0260",
        "outputId": "f680d515-6711-44d8-fde9-e663b0e029a3",
        "colab": {
          "base_uri": "https://localhost:8080/"
        }
      },
      "outputs": [
        {
          "output_type": "execute_result",
          "data": {
            "text/plain": [
              "(6, 2)"
            ]
          },
          "metadata": {},
          "execution_count": 6
        }
      ],
      "source": [
        "A.shape"
      ]
    },
    {
      "cell_type": "code",
      "execution_count": 7,
      "id": "cabf076a",
      "metadata": {
        "id": "cabf076a",
        "outputId": "7f527d86-2b75-4b11-e625-2ca8dd09c7a8",
        "colab": {
          "base_uri": "https://localhost:8080/",
          "height": 238
        }
      },
      "outputs": [
        {
          "output_type": "execute_result",
          "data": {
            "text/plain": [
              "   a0  a1\n",
              "0   3   7\n",
              "1  -4  -6\n",
              "2   7   8\n",
              "3   1  -1\n",
              "4  -4  -1\n",
              "5  -3  -7"
            ],
            "text/html": [
              "\n",
              "  <div id=\"df-de68a1e4-94fc-46f1-99ec-bb5dd5b7b937\">\n",
              "    <div class=\"colab-df-container\">\n",
              "      <div>\n",
              "<style scoped>\n",
              "    .dataframe tbody tr th:only-of-type {\n",
              "        vertical-align: middle;\n",
              "    }\n",
              "\n",
              "    .dataframe tbody tr th {\n",
              "        vertical-align: top;\n",
              "    }\n",
              "\n",
              "    .dataframe thead th {\n",
              "        text-align: right;\n",
              "    }\n",
              "</style>\n",
              "<table border=\"1\" class=\"dataframe\">\n",
              "  <thead>\n",
              "    <tr style=\"text-align: right;\">\n",
              "      <th></th>\n",
              "      <th>a0</th>\n",
              "      <th>a1</th>\n",
              "    </tr>\n",
              "  </thead>\n",
              "  <tbody>\n",
              "    <tr>\n",
              "      <th>0</th>\n",
              "      <td>3</td>\n",
              "      <td>7</td>\n",
              "    </tr>\n",
              "    <tr>\n",
              "      <th>1</th>\n",
              "      <td>-4</td>\n",
              "      <td>-6</td>\n",
              "    </tr>\n",
              "    <tr>\n",
              "      <th>2</th>\n",
              "      <td>7</td>\n",
              "      <td>8</td>\n",
              "    </tr>\n",
              "    <tr>\n",
              "      <th>3</th>\n",
              "      <td>1</td>\n",
              "      <td>-1</td>\n",
              "    </tr>\n",
              "    <tr>\n",
              "      <th>4</th>\n",
              "      <td>-4</td>\n",
              "      <td>-1</td>\n",
              "    </tr>\n",
              "    <tr>\n",
              "      <th>5</th>\n",
              "      <td>-3</td>\n",
              "      <td>-7</td>\n",
              "    </tr>\n",
              "  </tbody>\n",
              "</table>\n",
              "</div>\n",
              "      <button class=\"colab-df-convert\" onclick=\"convertToInteractive('df-de68a1e4-94fc-46f1-99ec-bb5dd5b7b937')\"\n",
              "              title=\"Convert this dataframe to an interactive table.\"\n",
              "              style=\"display:none;\">\n",
              "        \n",
              "  <svg xmlns=\"http://www.w3.org/2000/svg\" height=\"24px\"viewBox=\"0 0 24 24\"\n",
              "       width=\"24px\">\n",
              "    <path d=\"M0 0h24v24H0V0z\" fill=\"none\"/>\n",
              "    <path d=\"M18.56 5.44l.94 2.06.94-2.06 2.06-.94-2.06-.94-.94-2.06-.94 2.06-2.06.94zm-11 1L8.5 8.5l.94-2.06 2.06-.94-2.06-.94L8.5 2.5l-.94 2.06-2.06.94zm10 10l.94 2.06.94-2.06 2.06-.94-2.06-.94-.94-2.06-.94 2.06-2.06.94z\"/><path d=\"M17.41 7.96l-1.37-1.37c-.4-.4-.92-.59-1.43-.59-.52 0-1.04.2-1.43.59L10.3 9.45l-7.72 7.72c-.78.78-.78 2.05 0 2.83L4 21.41c.39.39.9.59 1.41.59.51 0 1.02-.2 1.41-.59l7.78-7.78 2.81-2.81c.8-.78.8-2.07 0-2.86zM5.41 20L4 18.59l7.72-7.72 1.47 1.35L5.41 20z\"/>\n",
              "  </svg>\n",
              "      </button>\n",
              "      \n",
              "  <style>\n",
              "    .colab-df-container {\n",
              "      display:flex;\n",
              "      flex-wrap:wrap;\n",
              "      gap: 12px;\n",
              "    }\n",
              "\n",
              "    .colab-df-convert {\n",
              "      background-color: #E8F0FE;\n",
              "      border: none;\n",
              "      border-radius: 50%;\n",
              "      cursor: pointer;\n",
              "      display: none;\n",
              "      fill: #1967D2;\n",
              "      height: 32px;\n",
              "      padding: 0 0 0 0;\n",
              "      width: 32px;\n",
              "    }\n",
              "\n",
              "    .colab-df-convert:hover {\n",
              "      background-color: #E2EBFA;\n",
              "      box-shadow: 0px 1px 2px rgba(60, 64, 67, 0.3), 0px 1px 3px 1px rgba(60, 64, 67, 0.15);\n",
              "      fill: #174EA6;\n",
              "    }\n",
              "\n",
              "    [theme=dark] .colab-df-convert {\n",
              "      background-color: #3B4455;\n",
              "      fill: #D2E3FC;\n",
              "    }\n",
              "\n",
              "    [theme=dark] .colab-df-convert:hover {\n",
              "      background-color: #434B5C;\n",
              "      box-shadow: 0px 1px 3px 1px rgba(0, 0, 0, 0.15);\n",
              "      filter: drop-shadow(0px 1px 2px rgba(0, 0, 0, 0.3));\n",
              "      fill: #FFFFFF;\n",
              "    }\n",
              "  </style>\n",
              "\n",
              "      <script>\n",
              "        const buttonEl =\n",
              "          document.querySelector('#df-de68a1e4-94fc-46f1-99ec-bb5dd5b7b937 button.colab-df-convert');\n",
              "        buttonEl.style.display =\n",
              "          google.colab.kernel.accessAllowed ? 'block' : 'none';\n",
              "\n",
              "        async function convertToInteractive(key) {\n",
              "          const element = document.querySelector('#df-de68a1e4-94fc-46f1-99ec-bb5dd5b7b937');\n",
              "          const dataTable =\n",
              "            await google.colab.kernel.invokeFunction('convertToInteractive',\n",
              "                                                     [key], {});\n",
              "          if (!dataTable) return;\n",
              "\n",
              "          const docLinkHtml = 'Like what you see? Visit the ' +\n",
              "            '<a target=\"_blank\" href=https://colab.research.google.com/notebooks/data_table.ipynb>data table notebook</a>'\n",
              "            + ' to learn more about interactive tables.';\n",
              "          element.innerHTML = '';\n",
              "          dataTable['output_type'] = 'display_data';\n",
              "          await google.colab.output.renderOutput(dataTable, element);\n",
              "          const docLink = document.createElement('div');\n",
              "          docLink.innerHTML = docLinkHtml;\n",
              "          element.appendChild(docLink);\n",
              "        }\n",
              "      </script>\n",
              "    </div>\n",
              "  </div>\n",
              "  "
            ]
          },
          "metadata": {},
          "execution_count": 7
        }
      ],
      "source": [
        "pd.DataFrame(A, columns=['a0','a1'])"
      ]
    },
    {
      "cell_type": "code",
      "execution_count": 8,
      "id": "3a6e2868",
      "metadata": {
        "id": "3a6e2868"
      },
      "outputs": [],
      "source": [
        "a0 = A[:,0]\n",
        "a1= A[:,1]"
      ]
    },
    {
      "cell_type": "code",
      "execution_count": 9,
      "id": "29b026a8",
      "metadata": {
        "id": "29b026a8",
        "outputId": "574fa5a6-86f4-466a-e6e9-042e0d18358a",
        "colab": {
          "base_uri": "https://localhost:8080/"
        }
      },
      "outputs": [
        {
          "output_type": "execute_result",
          "data": {
            "text/plain": [
              "array([[20., 25.],\n",
              "       [25., 40.]])"
            ]
          },
          "metadata": {},
          "execution_count": 9
        }
      ],
      "source": [
        "np.cov(a0,a1)"
      ]
    },
    {
      "cell_type": "code",
      "execution_count": 10,
      "id": "d2801e74",
      "metadata": {
        "id": "d2801e74",
        "outputId": "97fa3225-7494-44be-8a01-b1fcbbb4c91b",
        "colab": {
          "base_uri": "https://localhost:8080/"
        }
      },
      "outputs": [
        {
          "output_type": "execute_result",
          "data": {
            "text/plain": [
              "25.0"
            ]
          },
          "metadata": {},
          "execution_count": 10
        }
      ],
      "source": [
        "np.sum(a0*a1)/5"
      ]
    },
    {
      "cell_type": "code",
      "execution_count": 11,
      "id": "fcff0825",
      "metadata": {
        "id": "fcff0825",
        "outputId": "d37137b5-a43d-4c03-a228-127ec2aea5ce",
        "colab": {
          "base_uri": "https://localhost:8080/"
        }
      },
      "outputs": [
        {
          "output_type": "execute_result",
          "data": {
            "text/plain": [
              "array([[20., 25.],\n",
              "       [25., 40.]])"
            ]
          },
          "metadata": {},
          "execution_count": 11
        }
      ],
      "source": [
        "A.T @ A/5 #matrix multip --- Same result as for covariance "
      ]
    },
    {
      "cell_type": "code",
      "execution_count": 12,
      "id": "1b22a00d",
      "metadata": {
        "id": "1b22a00d",
        "outputId": "7e6c8cb9-7e7f-489f-f3a2-15a6f103f2e8",
        "colab": {
          "base_uri": "https://localhost:8080/"
        }
      },
      "outputs": [
        {
          "output_type": "stream",
          "name": "stdout",
          "text": [
            "Object `` not found.\n"
          ]
        }
      ],
      "source": [
        "?@"
      ]
    },
    {
      "cell_type": "code",
      "execution_count": 13,
      "id": "2ef2bf5a",
      "metadata": {
        "id": "2ef2bf5a"
      },
      "outputs": [],
      "source": [
        "sigma = A.T @ A/5"
      ]
    },
    {
      "cell_type": "code",
      "execution_count": 14,
      "id": "0908674c",
      "metadata": {
        "id": "0908674c",
        "outputId": "13d12f51-e8f3-4901-f5ee-b12d70051183",
        "colab": {
          "base_uri": "https://localhost:8080/"
        }
      },
      "outputs": [
        {
          "output_type": "execute_result",
          "data": {
            "text/plain": [
              "(array([ 3.07417596, 56.92582404]), array([[-0.82806723, -0.56062881],\n",
              "        [ 0.56062881, -0.82806723]]))"
            ]
          },
          "metadata": {},
          "execution_count": 14
        }
      ],
      "source": [
        "np.linalg.eig(sigma) #compute the eigenvalues and right eigenvector of a square array"
      ]
    },
    {
      "cell_type": "markdown",
      "id": "3d5a02df",
      "metadata": {
        "id": "3d5a02df"
      },
      "source": [
        "lambda1 = 56,92 highest eigenvalue \n",
        "lambda2 = 3..."
      ]
    },
    {
      "cell_type": "code",
      "execution_count": 15,
      "id": "b333d9b0",
      "metadata": {
        "id": "b333d9b0"
      },
      "outputs": [],
      "source": [
        "l, x = np.linalg.eig(sigma)"
      ]
    },
    {
      "cell_type": "code",
      "execution_count": 16,
      "id": "d6e3b3d7",
      "metadata": {
        "id": "d6e3b3d7",
        "outputId": "415ba4b8-5824-4d80-93cf-53a88c6f62af",
        "colab": {
          "base_uri": "https://localhost:8080/"
        }
      },
      "outputs": [
        {
          "output_type": "execute_result",
          "data": {
            "text/plain": [
              "array([[-0.82806723, -0.56062881],\n",
              "       [ 0.56062881, -0.82806723]])"
            ]
          },
          "metadata": {},
          "execution_count": 16
        }
      ],
      "source": [
        "x"
      ]
    },
    {
      "cell_type": "code",
      "execution_count": 17,
      "id": "dbf2b851",
      "metadata": {
        "id": "dbf2b851",
        "outputId": "b8f4ff1e-6b55-4b01-831e-24d60295c835",
        "colab": {
          "base_uri": "https://localhost:8080/"
        }
      },
      "outputs": [
        {
          "output_type": "execute_result",
          "data": {
            "text/plain": [
              "array([-2.54562438,  1.72347161])"
            ]
          },
          "metadata": {},
          "execution_count": 17
        }
      ],
      "source": [
        "sigma @ x[:,0]"
      ]
    },
    {
      "cell_type": "code",
      "execution_count": 18,
      "id": "a6507f10",
      "metadata": {
        "id": "a6507f10",
        "outputId": "935b8e06-11fc-4c23-8ba1-a97d5218aca9",
        "colab": {
          "base_uri": "https://localhost:8080/"
        }
      },
      "outputs": [
        {
          "output_type": "execute_result",
          "data": {
            "text/plain": [
              "array([-31.91425695, -47.13840945])"
            ]
          },
          "metadata": {},
          "execution_count": 18
        }
      ],
      "source": [
        "sigma @ x[:,1]"
      ]
    },
    {
      "cell_type": "code",
      "execution_count": 19,
      "id": "be75bcb6",
      "metadata": {
        "id": "be75bcb6",
        "outputId": "bff5237a-467f-4a98-e4be-3c0d0557e8f2",
        "colab": {
          "base_uri": "https://localhost:8080/"
        }
      },
      "outputs": [
        {
          "output_type": "stream",
          "name": "stdout",
          "text": [
            "1st principal component with biggest eigenvalue\n"
          ]
        },
        {
          "output_type": "execute_result",
          "data": {
            "text/plain": [
              "array([-0.56062881, -0.82806723])"
            ]
          },
          "metadata": {},
          "execution_count": 19
        }
      ],
      "source": [
        "print(\"1st principal component with biggest eigenvalue\")\n",
        "x[:,1]"
      ]
    },
    {
      "cell_type": "code",
      "execution_count": 20,
      "id": "8cc67adb",
      "metadata": {
        "id": "8cc67adb",
        "outputId": "f771c9ba-10e7-48c3-b67f-da1428217867",
        "colab": {
          "base_uri": "https://localhost:8080/"
        }
      },
      "outputs": [
        {
          "output_type": "stream",
          "name": "stdout",
          "text": [
            "2st principal component with lowest eigenvalue\n"
          ]
        },
        {
          "output_type": "execute_result",
          "data": {
            "text/plain": [
              "array([-0.82806723,  0.56062881])"
            ]
          },
          "metadata": {},
          "execution_count": 20
        }
      ],
      "source": [
        "print(\"2st principal component with lowest eigenvalue\")\n",
        "x[:,0]"
      ]
    },
    {
      "cell_type": "code",
      "execution_count": 21,
      "id": "3617374d",
      "metadata": {
        "id": "3617374d"
      },
      "outputs": [],
      "source": [
        "pc1_arr =  A @ x[:,1] #to transform the data "
      ]
    },
    {
      "cell_type": "code",
      "execution_count": 22,
      "id": "6a687402",
      "metadata": {
        "id": "6a687402"
      },
      "outputs": [],
      "source": [
        "pc2_arr =  A @ x[:,0]"
      ]
    },
    {
      "cell_type": "code",
      "execution_count": 23,
      "id": "14a4b366",
      "metadata": {
        "id": "14a4b366",
        "outputId": "027074c4-5991-4f69-f106-345b8c030638",
        "colab": {
          "base_uri": "https://localhost:8080/"
        }
      },
      "outputs": [
        {
          "output_type": "execute_result",
          "data": {
            "text/plain": [
              "array([ -7.47835704,   7.21091862, -10.54893951,   0.26743842,\n",
              "         3.07058247,   7.47835704])"
            ]
          },
          "metadata": {},
          "execution_count": 23
        }
      ],
      "source": [
        "pc1_arr"
      ]
    },
    {
      "cell_type": "code",
      "execution_count": 24,
      "id": "3f3fbbf0",
      "metadata": {
        "id": "3f3fbbf0",
        "outputId": "aa51c714-d76b-4a8a-e9b6-8470eac9062f",
        "colab": {
          "base_uri": "https://localhost:8080/"
        }
      },
      "outputs": [
        {
          "output_type": "execute_result",
          "data": {
            "text/plain": [
              "array([ 1.44019997, -0.05150393, -1.31144014, -1.38869604,  2.75164011,\n",
              "       -1.44019997])"
            ]
          },
          "metadata": {},
          "execution_count": 24
        }
      ],
      "source": [
        "pc2_arr"
      ]
    },
    {
      "cell_type": "code",
      "execution_count": 25,
      "id": "fb15416a",
      "metadata": {
        "id": "fb15416a"
      },
      "outputs": [],
      "source": [
        "df = pd.read_csv('glass.data')"
      ]
    },
    {
      "cell_type": "code",
      "execution_count": 26,
      "id": "73af7a60",
      "metadata": {
        "id": "73af7a60",
        "outputId": "4f9426a5-bf4c-40cd-e34c-97a93cfa5bb0",
        "colab": {
          "base_uri": "https://localhost:8080/",
          "height": 364
        }
      },
      "outputs": [
        {
          "output_type": "execute_result",
          "data": {
            "text/plain": [
              "                1     1.52101       13.64        4.49        1.10       71.78  \\\n",
              "count  213.000000  213.000000  213.000000  213.000000  213.000000  213.000000   \n",
              "mean   108.000000    1.518353   13.406761    2.676056    1.446526   72.655023   \n",
              "std     61.631972    0.003039    0.818371    1.440453    0.499882    0.774052   \n",
              "min      2.000000    1.511150   10.730000    0.000000    0.290000   69.810000   \n",
              "25%     55.000000    1.516520   12.900000    2.090000    1.190000   72.280000   \n",
              "50%    108.000000    1.517680   13.300000    3.480000    1.360000   72.790000   \n",
              "75%    161.000000    1.519150   13.830000    3.600000    1.630000   73.090000   \n",
              "max    214.000000    1.533930   17.380000    3.980000    3.500000   75.410000   \n",
              "\n",
              "             0.06        8.75        0.00      0.00.1         1.1  \n",
              "count  213.000000  213.000000  213.000000  213.000000  213.000000  \n",
              "mean     0.499108    8.957934    0.175869    0.057277    2.788732  \n",
              "std      0.653035    1.426435    0.498245    0.097589    2.105130  \n",
              "min      0.000000    5.430000    0.000000    0.000000    1.000000  \n",
              "25%      0.130000    8.240000    0.000000    0.000000    1.000000  \n",
              "50%      0.560000    8.600000    0.000000    0.000000    2.000000  \n",
              "75%      0.610000    9.180000    0.000000    0.100000    3.000000  \n",
              "max      6.210000   16.190000    3.150000    0.510000    7.000000  "
            ],
            "text/html": [
              "\n",
              "  <div id=\"df-a492f8ce-4c69-4302-9141-51680aba6e4e\">\n",
              "    <div class=\"colab-df-container\">\n",
              "      <div>\n",
              "<style scoped>\n",
              "    .dataframe tbody tr th:only-of-type {\n",
              "        vertical-align: middle;\n",
              "    }\n",
              "\n",
              "    .dataframe tbody tr th {\n",
              "        vertical-align: top;\n",
              "    }\n",
              "\n",
              "    .dataframe thead th {\n",
              "        text-align: right;\n",
              "    }\n",
              "</style>\n",
              "<table border=\"1\" class=\"dataframe\">\n",
              "  <thead>\n",
              "    <tr style=\"text-align: right;\">\n",
              "      <th></th>\n",
              "      <th>1</th>\n",
              "      <th>1.52101</th>\n",
              "      <th>13.64</th>\n",
              "      <th>4.49</th>\n",
              "      <th>1.10</th>\n",
              "      <th>71.78</th>\n",
              "      <th>0.06</th>\n",
              "      <th>8.75</th>\n",
              "      <th>0.00</th>\n",
              "      <th>0.00.1</th>\n",
              "      <th>1.1</th>\n",
              "    </tr>\n",
              "  </thead>\n",
              "  <tbody>\n",
              "    <tr>\n",
              "      <th>count</th>\n",
              "      <td>213.000000</td>\n",
              "      <td>213.000000</td>\n",
              "      <td>213.000000</td>\n",
              "      <td>213.000000</td>\n",
              "      <td>213.000000</td>\n",
              "      <td>213.000000</td>\n",
              "      <td>213.000000</td>\n",
              "      <td>213.000000</td>\n",
              "      <td>213.000000</td>\n",
              "      <td>213.000000</td>\n",
              "      <td>213.000000</td>\n",
              "    </tr>\n",
              "    <tr>\n",
              "      <th>mean</th>\n",
              "      <td>108.000000</td>\n",
              "      <td>1.518353</td>\n",
              "      <td>13.406761</td>\n",
              "      <td>2.676056</td>\n",
              "      <td>1.446526</td>\n",
              "      <td>72.655023</td>\n",
              "      <td>0.499108</td>\n",
              "      <td>8.957934</td>\n",
              "      <td>0.175869</td>\n",
              "      <td>0.057277</td>\n",
              "      <td>2.788732</td>\n",
              "    </tr>\n",
              "    <tr>\n",
              "      <th>std</th>\n",
              "      <td>61.631972</td>\n",
              "      <td>0.003039</td>\n",
              "      <td>0.818371</td>\n",
              "      <td>1.440453</td>\n",
              "      <td>0.499882</td>\n",
              "      <td>0.774052</td>\n",
              "      <td>0.653035</td>\n",
              "      <td>1.426435</td>\n",
              "      <td>0.498245</td>\n",
              "      <td>0.097589</td>\n",
              "      <td>2.105130</td>\n",
              "    </tr>\n",
              "    <tr>\n",
              "      <th>min</th>\n",
              "      <td>2.000000</td>\n",
              "      <td>1.511150</td>\n",
              "      <td>10.730000</td>\n",
              "      <td>0.000000</td>\n",
              "      <td>0.290000</td>\n",
              "      <td>69.810000</td>\n",
              "      <td>0.000000</td>\n",
              "      <td>5.430000</td>\n",
              "      <td>0.000000</td>\n",
              "      <td>0.000000</td>\n",
              "      <td>1.000000</td>\n",
              "    </tr>\n",
              "    <tr>\n",
              "      <th>25%</th>\n",
              "      <td>55.000000</td>\n",
              "      <td>1.516520</td>\n",
              "      <td>12.900000</td>\n",
              "      <td>2.090000</td>\n",
              "      <td>1.190000</td>\n",
              "      <td>72.280000</td>\n",
              "      <td>0.130000</td>\n",
              "      <td>8.240000</td>\n",
              "      <td>0.000000</td>\n",
              "      <td>0.000000</td>\n",
              "      <td>1.000000</td>\n",
              "    </tr>\n",
              "    <tr>\n",
              "      <th>50%</th>\n",
              "      <td>108.000000</td>\n",
              "      <td>1.517680</td>\n",
              "      <td>13.300000</td>\n",
              "      <td>3.480000</td>\n",
              "      <td>1.360000</td>\n",
              "      <td>72.790000</td>\n",
              "      <td>0.560000</td>\n",
              "      <td>8.600000</td>\n",
              "      <td>0.000000</td>\n",
              "      <td>0.000000</td>\n",
              "      <td>2.000000</td>\n",
              "    </tr>\n",
              "    <tr>\n",
              "      <th>75%</th>\n",
              "      <td>161.000000</td>\n",
              "      <td>1.519150</td>\n",
              "      <td>13.830000</td>\n",
              "      <td>3.600000</td>\n",
              "      <td>1.630000</td>\n",
              "      <td>73.090000</td>\n",
              "      <td>0.610000</td>\n",
              "      <td>9.180000</td>\n",
              "      <td>0.000000</td>\n",
              "      <td>0.100000</td>\n",
              "      <td>3.000000</td>\n",
              "    </tr>\n",
              "    <tr>\n",
              "      <th>max</th>\n",
              "      <td>214.000000</td>\n",
              "      <td>1.533930</td>\n",
              "      <td>17.380000</td>\n",
              "      <td>3.980000</td>\n",
              "      <td>3.500000</td>\n",
              "      <td>75.410000</td>\n",
              "      <td>6.210000</td>\n",
              "      <td>16.190000</td>\n",
              "      <td>3.150000</td>\n",
              "      <td>0.510000</td>\n",
              "      <td>7.000000</td>\n",
              "    </tr>\n",
              "  </tbody>\n",
              "</table>\n",
              "</div>\n",
              "      <button class=\"colab-df-convert\" onclick=\"convertToInteractive('df-a492f8ce-4c69-4302-9141-51680aba6e4e')\"\n",
              "              title=\"Convert this dataframe to an interactive table.\"\n",
              "              style=\"display:none;\">\n",
              "        \n",
              "  <svg xmlns=\"http://www.w3.org/2000/svg\" height=\"24px\"viewBox=\"0 0 24 24\"\n",
              "       width=\"24px\">\n",
              "    <path d=\"M0 0h24v24H0V0z\" fill=\"none\"/>\n",
              "    <path d=\"M18.56 5.44l.94 2.06.94-2.06 2.06-.94-2.06-.94-.94-2.06-.94 2.06-2.06.94zm-11 1L8.5 8.5l.94-2.06 2.06-.94-2.06-.94L8.5 2.5l-.94 2.06-2.06.94zm10 10l.94 2.06.94-2.06 2.06-.94-2.06-.94-.94-2.06-.94 2.06-2.06.94z\"/><path d=\"M17.41 7.96l-1.37-1.37c-.4-.4-.92-.59-1.43-.59-.52 0-1.04.2-1.43.59L10.3 9.45l-7.72 7.72c-.78.78-.78 2.05 0 2.83L4 21.41c.39.39.9.59 1.41.59.51 0 1.02-.2 1.41-.59l7.78-7.78 2.81-2.81c.8-.78.8-2.07 0-2.86zM5.41 20L4 18.59l7.72-7.72 1.47 1.35L5.41 20z\"/>\n",
              "  </svg>\n",
              "      </button>\n",
              "      \n",
              "  <style>\n",
              "    .colab-df-container {\n",
              "      display:flex;\n",
              "      flex-wrap:wrap;\n",
              "      gap: 12px;\n",
              "    }\n",
              "\n",
              "    .colab-df-convert {\n",
              "      background-color: #E8F0FE;\n",
              "      border: none;\n",
              "      border-radius: 50%;\n",
              "      cursor: pointer;\n",
              "      display: none;\n",
              "      fill: #1967D2;\n",
              "      height: 32px;\n",
              "      padding: 0 0 0 0;\n",
              "      width: 32px;\n",
              "    }\n",
              "\n",
              "    .colab-df-convert:hover {\n",
              "      background-color: #E2EBFA;\n",
              "      box-shadow: 0px 1px 2px rgba(60, 64, 67, 0.3), 0px 1px 3px 1px rgba(60, 64, 67, 0.15);\n",
              "      fill: #174EA6;\n",
              "    }\n",
              "\n",
              "    [theme=dark] .colab-df-convert {\n",
              "      background-color: #3B4455;\n",
              "      fill: #D2E3FC;\n",
              "    }\n",
              "\n",
              "    [theme=dark] .colab-df-convert:hover {\n",
              "      background-color: #434B5C;\n",
              "      box-shadow: 0px 1px 3px 1px rgba(0, 0, 0, 0.15);\n",
              "      filter: drop-shadow(0px 1px 2px rgba(0, 0, 0, 0.3));\n",
              "      fill: #FFFFFF;\n",
              "    }\n",
              "  </style>\n",
              "\n",
              "      <script>\n",
              "        const buttonEl =\n",
              "          document.querySelector('#df-a492f8ce-4c69-4302-9141-51680aba6e4e button.colab-df-convert');\n",
              "        buttonEl.style.display =\n",
              "          google.colab.kernel.accessAllowed ? 'block' : 'none';\n",
              "\n",
              "        async function convertToInteractive(key) {\n",
              "          const element = document.querySelector('#df-a492f8ce-4c69-4302-9141-51680aba6e4e');\n",
              "          const dataTable =\n",
              "            await google.colab.kernel.invokeFunction('convertToInteractive',\n",
              "                                                     [key], {});\n",
              "          if (!dataTable) return;\n",
              "\n",
              "          const docLinkHtml = 'Like what you see? Visit the ' +\n",
              "            '<a target=\"_blank\" href=https://colab.research.google.com/notebooks/data_table.ipynb>data table notebook</a>'\n",
              "            + ' to learn more about interactive tables.';\n",
              "          element.innerHTML = '';\n",
              "          dataTable['output_type'] = 'display_data';\n",
              "          await google.colab.output.renderOutput(dataTable, element);\n",
              "          const docLink = document.createElement('div');\n",
              "          docLink.innerHTML = docLinkHtml;\n",
              "          element.appendChild(docLink);\n",
              "        }\n",
              "      </script>\n",
              "    </div>\n",
              "  </div>\n",
              "  "
            ]
          },
          "metadata": {},
          "execution_count": 26
        }
      ],
      "source": [
        "df.describe()"
      ]
    },
    {
      "cell_type": "code",
      "execution_count": 27,
      "id": "bf368d3d",
      "metadata": {
        "id": "bf368d3d"
      },
      "outputs": [],
      "source": [
        "#not scaled dataset!!\n",
        "from sklearn.preprocessing import StandardScaler\n",
        "scaler  = StandardScaler()\n",
        "df_sclaed = scaler.fit_transform(df)"
      ]
    },
    {
      "cell_type": "code",
      "execution_count": 28,
      "id": "336a551e",
      "metadata": {
        "id": "336a551e"
      },
      "outputs": [],
      "source": [
        "df_new = pd.DataFrame(df_sclaed)"
      ]
    },
    {
      "cell_type": "code",
      "execution_count": 29,
      "id": "bf5257c1",
      "metadata": {
        "id": "bf5257c1",
        "outputId": "70b5481a-deaa-4792-e4e7-ae9b05e86afa",
        "colab": {
          "base_uri": "https://localhost:8080/",
          "height": 451
        }
      },
      "outputs": [
        {
          "output_type": "execute_result",
          "data": {
            "text/plain": [
              "                 0             1             2             3             4   \\\n",
              "count  2.130000e+02  2.130000e+02  2.130000e+02  2.130000e+02  2.130000e+02   \n",
              "mean   6.671763e-17 -5.837792e-15 -1.717979e-15  6.671763e-17 -1.000764e-16   \n",
              "std    1.002356e+00  1.002356e+00  1.002356e+00  1.002356e+00  1.002356e+00   \n",
              "min   -1.723938e+00 -2.376110e+00 -3.278544e+00 -1.862164e+00 -2.319047e+00   \n",
              "25%   -8.619691e-01 -6.046672e-01 -6.206894e-01 -4.078139e-01 -5.143814e-01   \n",
              "50%    0.000000e+00 -2.220092e-01 -1.307623e-01  5.594332e-01 -1.735002e-01   \n",
              "75%    8.619691e-01  2.629109e-01  5.183912e-01  6.429366e-01  3.678995e-01   \n",
              "max    1.723938e+00  5.138502e+00  4.866495e+00  9.073639e-01  4.117593e+00   \n",
              "\n",
              "                 5             6             7             8             9   \\\n",
              "count  2.130000e+02  2.130000e+02  2.130000e+02  2.130000e+02  2.130000e+02   \n",
              "mean   1.460491e-14 -4.169852e-17 -3.836264e-16 -3.335881e-17 -1.355202e-17   \n",
              "std    1.002356e+00  1.002356e+00  1.002356e+00  1.002356e+00  1.002356e+00   \n",
              "min   -3.684153e+00 -7.660897e-01 -2.479079e+00 -3.538076e-01 -5.883011e-01   \n",
              "25%   -4.856353e-01 -5.665504e-01 -5.044924e-01 -3.538076e-01 -5.883011e-01   \n",
              "50%    1.747874e-01  9.346424e-02 -2.515204e-01 -3.538076e-01 -5.883011e-01   \n",
              "75%    5.632713e-01  1.702101e-01  1.560456e-01 -3.538076e-01  4.388147e-01   \n",
              "max    3.567547e+00  8.765749e+00  5.081972e+00  5.983278e+00  4.649990e+00   \n",
              "\n",
              "                 10  \n",
              "count  2.130000e+02  \n",
              "mean   1.334353e-16  \n",
              "std    1.002356e+00  \n",
              "min   -8.517035e-01  \n",
              "25%   -8.517035e-01  \n",
              "50%   -3.755543e-01  \n",
              "75%    1.005949e-01  \n",
              "max    2.005192e+00  "
            ],
            "text/html": [
              "\n",
              "  <div id=\"df-893c4cf0-b1c4-432f-b381-ca6bf3d0bb91\">\n",
              "    <div class=\"colab-df-container\">\n",
              "      <div>\n",
              "<style scoped>\n",
              "    .dataframe tbody tr th:only-of-type {\n",
              "        vertical-align: middle;\n",
              "    }\n",
              "\n",
              "    .dataframe tbody tr th {\n",
              "        vertical-align: top;\n",
              "    }\n",
              "\n",
              "    .dataframe thead th {\n",
              "        text-align: right;\n",
              "    }\n",
              "</style>\n",
              "<table border=\"1\" class=\"dataframe\">\n",
              "  <thead>\n",
              "    <tr style=\"text-align: right;\">\n",
              "      <th></th>\n",
              "      <th>0</th>\n",
              "      <th>1</th>\n",
              "      <th>2</th>\n",
              "      <th>3</th>\n",
              "      <th>4</th>\n",
              "      <th>5</th>\n",
              "      <th>6</th>\n",
              "      <th>7</th>\n",
              "      <th>8</th>\n",
              "      <th>9</th>\n",
              "      <th>10</th>\n",
              "    </tr>\n",
              "  </thead>\n",
              "  <tbody>\n",
              "    <tr>\n",
              "      <th>count</th>\n",
              "      <td>2.130000e+02</td>\n",
              "      <td>2.130000e+02</td>\n",
              "      <td>2.130000e+02</td>\n",
              "      <td>2.130000e+02</td>\n",
              "      <td>2.130000e+02</td>\n",
              "      <td>2.130000e+02</td>\n",
              "      <td>2.130000e+02</td>\n",
              "      <td>2.130000e+02</td>\n",
              "      <td>2.130000e+02</td>\n",
              "      <td>2.130000e+02</td>\n",
              "      <td>2.130000e+02</td>\n",
              "    </tr>\n",
              "    <tr>\n",
              "      <th>mean</th>\n",
              "      <td>6.671763e-17</td>\n",
              "      <td>-5.837792e-15</td>\n",
              "      <td>-1.717979e-15</td>\n",
              "      <td>6.671763e-17</td>\n",
              "      <td>-1.000764e-16</td>\n",
              "      <td>1.460491e-14</td>\n",
              "      <td>-4.169852e-17</td>\n",
              "      <td>-3.836264e-16</td>\n",
              "      <td>-3.335881e-17</td>\n",
              "      <td>-1.355202e-17</td>\n",
              "      <td>1.334353e-16</td>\n",
              "    </tr>\n",
              "    <tr>\n",
              "      <th>std</th>\n",
              "      <td>1.002356e+00</td>\n",
              "      <td>1.002356e+00</td>\n",
              "      <td>1.002356e+00</td>\n",
              "      <td>1.002356e+00</td>\n",
              "      <td>1.002356e+00</td>\n",
              "      <td>1.002356e+00</td>\n",
              "      <td>1.002356e+00</td>\n",
              "      <td>1.002356e+00</td>\n",
              "      <td>1.002356e+00</td>\n",
              "      <td>1.002356e+00</td>\n",
              "      <td>1.002356e+00</td>\n",
              "    </tr>\n",
              "    <tr>\n",
              "      <th>min</th>\n",
              "      <td>-1.723938e+00</td>\n",
              "      <td>-2.376110e+00</td>\n",
              "      <td>-3.278544e+00</td>\n",
              "      <td>-1.862164e+00</td>\n",
              "      <td>-2.319047e+00</td>\n",
              "      <td>-3.684153e+00</td>\n",
              "      <td>-7.660897e-01</td>\n",
              "      <td>-2.479079e+00</td>\n",
              "      <td>-3.538076e-01</td>\n",
              "      <td>-5.883011e-01</td>\n",
              "      <td>-8.517035e-01</td>\n",
              "    </tr>\n",
              "    <tr>\n",
              "      <th>25%</th>\n",
              "      <td>-8.619691e-01</td>\n",
              "      <td>-6.046672e-01</td>\n",
              "      <td>-6.206894e-01</td>\n",
              "      <td>-4.078139e-01</td>\n",
              "      <td>-5.143814e-01</td>\n",
              "      <td>-4.856353e-01</td>\n",
              "      <td>-5.665504e-01</td>\n",
              "      <td>-5.044924e-01</td>\n",
              "      <td>-3.538076e-01</td>\n",
              "      <td>-5.883011e-01</td>\n",
              "      <td>-8.517035e-01</td>\n",
              "    </tr>\n",
              "    <tr>\n",
              "      <th>50%</th>\n",
              "      <td>0.000000e+00</td>\n",
              "      <td>-2.220092e-01</td>\n",
              "      <td>-1.307623e-01</td>\n",
              "      <td>5.594332e-01</td>\n",
              "      <td>-1.735002e-01</td>\n",
              "      <td>1.747874e-01</td>\n",
              "      <td>9.346424e-02</td>\n",
              "      <td>-2.515204e-01</td>\n",
              "      <td>-3.538076e-01</td>\n",
              "      <td>-5.883011e-01</td>\n",
              "      <td>-3.755543e-01</td>\n",
              "    </tr>\n",
              "    <tr>\n",
              "      <th>75%</th>\n",
              "      <td>8.619691e-01</td>\n",
              "      <td>2.629109e-01</td>\n",
              "      <td>5.183912e-01</td>\n",
              "      <td>6.429366e-01</td>\n",
              "      <td>3.678995e-01</td>\n",
              "      <td>5.632713e-01</td>\n",
              "      <td>1.702101e-01</td>\n",
              "      <td>1.560456e-01</td>\n",
              "      <td>-3.538076e-01</td>\n",
              "      <td>4.388147e-01</td>\n",
              "      <td>1.005949e-01</td>\n",
              "    </tr>\n",
              "    <tr>\n",
              "      <th>max</th>\n",
              "      <td>1.723938e+00</td>\n",
              "      <td>5.138502e+00</td>\n",
              "      <td>4.866495e+00</td>\n",
              "      <td>9.073639e-01</td>\n",
              "      <td>4.117593e+00</td>\n",
              "      <td>3.567547e+00</td>\n",
              "      <td>8.765749e+00</td>\n",
              "      <td>5.081972e+00</td>\n",
              "      <td>5.983278e+00</td>\n",
              "      <td>4.649990e+00</td>\n",
              "      <td>2.005192e+00</td>\n",
              "    </tr>\n",
              "  </tbody>\n",
              "</table>\n",
              "</div>\n",
              "      <button class=\"colab-df-convert\" onclick=\"convertToInteractive('df-893c4cf0-b1c4-432f-b381-ca6bf3d0bb91')\"\n",
              "              title=\"Convert this dataframe to an interactive table.\"\n",
              "              style=\"display:none;\">\n",
              "        \n",
              "  <svg xmlns=\"http://www.w3.org/2000/svg\" height=\"24px\"viewBox=\"0 0 24 24\"\n",
              "       width=\"24px\">\n",
              "    <path d=\"M0 0h24v24H0V0z\" fill=\"none\"/>\n",
              "    <path d=\"M18.56 5.44l.94 2.06.94-2.06 2.06-.94-2.06-.94-.94-2.06-.94 2.06-2.06.94zm-11 1L8.5 8.5l.94-2.06 2.06-.94-2.06-.94L8.5 2.5l-.94 2.06-2.06.94zm10 10l.94 2.06.94-2.06 2.06-.94-2.06-.94-.94-2.06-.94 2.06-2.06.94z\"/><path d=\"M17.41 7.96l-1.37-1.37c-.4-.4-.92-.59-1.43-.59-.52 0-1.04.2-1.43.59L10.3 9.45l-7.72 7.72c-.78.78-.78 2.05 0 2.83L4 21.41c.39.39.9.59 1.41.59.51 0 1.02-.2 1.41-.59l7.78-7.78 2.81-2.81c.8-.78.8-2.07 0-2.86zM5.41 20L4 18.59l7.72-7.72 1.47 1.35L5.41 20z\"/>\n",
              "  </svg>\n",
              "      </button>\n",
              "      \n",
              "  <style>\n",
              "    .colab-df-container {\n",
              "      display:flex;\n",
              "      flex-wrap:wrap;\n",
              "      gap: 12px;\n",
              "    }\n",
              "\n",
              "    .colab-df-convert {\n",
              "      background-color: #E8F0FE;\n",
              "      border: none;\n",
              "      border-radius: 50%;\n",
              "      cursor: pointer;\n",
              "      display: none;\n",
              "      fill: #1967D2;\n",
              "      height: 32px;\n",
              "      padding: 0 0 0 0;\n",
              "      width: 32px;\n",
              "    }\n",
              "\n",
              "    .colab-df-convert:hover {\n",
              "      background-color: #E2EBFA;\n",
              "      box-shadow: 0px 1px 2px rgba(60, 64, 67, 0.3), 0px 1px 3px 1px rgba(60, 64, 67, 0.15);\n",
              "      fill: #174EA6;\n",
              "    }\n",
              "\n",
              "    [theme=dark] .colab-df-convert {\n",
              "      background-color: #3B4455;\n",
              "      fill: #D2E3FC;\n",
              "    }\n",
              "\n",
              "    [theme=dark] .colab-df-convert:hover {\n",
              "      background-color: #434B5C;\n",
              "      box-shadow: 0px 1px 3px 1px rgba(0, 0, 0, 0.15);\n",
              "      filter: drop-shadow(0px 1px 2px rgba(0, 0, 0, 0.3));\n",
              "      fill: #FFFFFF;\n",
              "    }\n",
              "  </style>\n",
              "\n",
              "      <script>\n",
              "        const buttonEl =\n",
              "          document.querySelector('#df-893c4cf0-b1c4-432f-b381-ca6bf3d0bb91 button.colab-df-convert');\n",
              "        buttonEl.style.display =\n",
              "          google.colab.kernel.accessAllowed ? 'block' : 'none';\n",
              "\n",
              "        async function convertToInteractive(key) {\n",
              "          const element = document.querySelector('#df-893c4cf0-b1c4-432f-b381-ca6bf3d0bb91');\n",
              "          const dataTable =\n",
              "            await google.colab.kernel.invokeFunction('convertToInteractive',\n",
              "                                                     [key], {});\n",
              "          if (!dataTable) return;\n",
              "\n",
              "          const docLinkHtml = 'Like what you see? Visit the ' +\n",
              "            '<a target=\"_blank\" href=https://colab.research.google.com/notebooks/data_table.ipynb>data table notebook</a>'\n",
              "            + ' to learn more about interactive tables.';\n",
              "          element.innerHTML = '';\n",
              "          dataTable['output_type'] = 'display_data';\n",
              "          await google.colab.output.renderOutput(dataTable, element);\n",
              "          const docLink = document.createElement('div');\n",
              "          docLink.innerHTML = docLinkHtml;\n",
              "          element.appendChild(docLink);\n",
              "        }\n",
              "      </script>\n",
              "    </div>\n",
              "  </div>\n",
              "  "
            ]
          },
          "metadata": {},
          "execution_count": 29
        }
      ],
      "source": [
        "df_new.describe() #mean 0 and std close to 1"
      ]
    },
    {
      "cell_type": "code",
      "execution_count": 30,
      "id": "25a40069",
      "metadata": {
        "id": "25a40069",
        "outputId": "249ff15a-1f85-4697-f219-cc7a32d6179a",
        "colab": {
          "base_uri": "https://localhost:8080/"
        }
      },
      "outputs": [
        {
          "output_type": "stream",
          "name": "stdout",
          "text": [
            "ezegd-\n"
          ]
        }
      ],
      "source": [
        "print(\"ezegd-\")"
      ]
    },
    {
      "cell_type": "code",
      "source": [
        ""
      ],
      "metadata": {
        "id": "woq-spnUmXkE"
      },
      "id": "woq-spnUmXkE",
      "execution_count": null,
      "outputs": []
    }
  ],
  "metadata": {
    "kernelspec": {
      "display_name": "Python 3 (ipykernel)",
      "language": "python",
      "name": "python3"
    },
    "language_info": {
      "codemirror_mode": {
        "name": "ipython",
        "version": 3
      },
      "file_extension": ".py",
      "mimetype": "text/x-python",
      "name": "python",
      "nbconvert_exporter": "python",
      "pygments_lexer": "ipython3",
      "version": "3.9.7"
    },
    "colab": {
      "name": "Dimensionality reduction raw_technique.ipynb",
      "provenance": []
    }
  },
  "nbformat": 4,
  "nbformat_minor": 5
}